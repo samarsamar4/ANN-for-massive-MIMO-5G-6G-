{
 "cells": [
  {
   "cell_type": "markdown",
   "metadata": {},
   "source": [
    "<h1 style=\"color:#191970; font-size:38px\">MIMO-NN1</h1>"
   ]
  },
  {
   "cell_type": "markdown",
   "metadata": {},
   "source": [
    "<h1 style=\"color:#006400\">Libraries</h1>"
   ]
  },
  {
   "cell_type": "code",
   "execution_count": 1,
   "metadata": {},
   "outputs": [
    {
     "name": "stderr",
     "output_type": "stream",
     "text": [
      "Using TensorFlow backend.\n"
     ]
    }
   ],
   "source": [
    "import numpy as np\n",
    "from numpy.linalg import inv\n",
    "from commpy.modulation import QAMModem\n",
    "import keras\n",
    "from keras.models import Sequential\n",
    "from keras.layers import Dense, Activation, BatchNormalization\n",
    "import matplotlib.pyplot as plt\n",
    "import decimal\n",
    "from decimal import getcontext\n",
    "\n",
    "getcontext().Emax = 600000000000"
   ]
  },
  {
   "cell_type": "markdown",
   "metadata": {},
   "source": [
    "<h1 style=\"color:#006400\">Functions</h1>"
   ]
  },
  {
   "cell_type": "code",
   "execution_count": 2,
   "metadata": {},
   "outputs": [
    {
     "name": "stdout",
     "output_type": "stream",
     "text": [
      "importing Jupyter notebook from Utils.ipynb\n"
     ]
    }
   ],
   "source": [
    "import import_ipynb\n",
    "from Utils import *"
   ]
  },
  {
   "cell_type": "markdown",
   "metadata": {},
   "source": [
    "<h1 style=\"color:#006400\">Variables</h1>"
   ]
  },
  {
   "cell_type": "code",
   "execution_count": 3,
   "metadata": {},
   "outputs": [],
   "source": [
    "IBO = 3\n",
    "p = 1.1\n",
    "q = 4\n",
    "Vsat = 1.9\n",
    "G = 16\n",
    "A = -345\n",
    "B = 0.17\n",
    "Mr = 10\n",
    "Mt = 100\n",
    "M = 16\n",
    "N_bits = Mr * np.log2(M)\n",
    "SNRdb = decimal.Decimal(60000000000)\n",
    "Niter = 50\n",
    "mu1 = 0.0017\n",
    "lamda = 0.00071\n",
    "mu2 = 1\n",
    "eps = 1e-2"
   ]
  },
  {
   "cell_type": "markdown",
   "metadata": {},
   "source": [
    "<h1 style=\"color:#006400\">Initialization</h1>"
   ]
  },
  {
   "cell_type": "code",
   "execution_count": 4,
   "metadata": {},
   "outputs": [],
   "source": [
    "N_bits = Mr * np.log2(M)\n",
    "MSE = np.zeros((Mt, 50))\n",
    "x_gd_amp0 = np.zeros((Mt, 1))\n",
    "y_gd_r0 = np.zeros([Mt, 100])\n",
    "PAPR_GD = np.zeros((Mt, 1))\n",
    "MUIgdi = np.zeros((Mt, 1))\n",
    "SERgdi = np.zeros((Mt, 1))\n",
    "BERgdi = np.zeros((Mt, 1))\n",
    "x_gd = np.zeros([Mt, 1])\n",
    "gdx1 = np.zeros([Mt, Niter])\n",
    "d = np.zeros([Mt, 1])\n",
    "S = np.zeros((1000000, 20))\n",
    "ZZ = np.zeros((1000000, 10), dtype=complex)\n",
    "X = np.zeros((1000000, 200))"
   ]
  },
  {
   "cell_type": "markdown",
   "metadata": {},
   "source": [
    "<h1 style=\"color:#006400\">Basic_Nonlinear_Distortion_Model</h1>"
   ]
  },
  {
   "cell_type": "code",
   "execution_count": 5,
   "metadata": {},
   "outputs": [],
   "source": [
    "K0, sigma_2d = Basic_Nonlinear_Distortion_Model(A, B, q, p, G, Vsat, IBO)"
   ]
  },
  {
   "cell_type": "markdown",
   "metadata": {},
   "source": [
    "<h1 style=\"color:#006400\"> Data </h1>"
   ]
  },
  {
   "cell_type": "code",
   "execution_count": 6,
   "metadata": {},
   "outputs": [],
   "source": [
    "\"\"\" Generate the matrix of the channel H ∈ ℂ(Mr * Mt) whose inputs are complex random Gaussian variables\n",
    "    Transfer H Matrix into a vector that contains H Real values concatenated with H Imaginary values  \"\"\"\n",
    "H = (1 / np.sqrt(2 * Mt)) * (np.random.randn(Mr, Mt) + 1j * np.random.randn(Mr, Mt))\n",
    "HR = H.flatten()\n",
    "realh = np.real(HR)\n",
    "imagh = np.imag(HR)\n",
    "Hr = np.concatenate((realh, imagh), axis=0).reshape(-1, 1)\n",
    "Hr = np.reshape(Hr, (2000, 1)).T\n",
    "HH = Hr"
   ]
  },
  {
   "cell_type": "code",
   "execution_count": 7,
   "metadata": {},
   "outputs": [],
   "source": [
    "\"\"\"Generate for each H; 1,000,000 symbols Z and 1,000,000 precoded symbols X by\n",
    "Generating a random bit stream equivalent to the transmissed signal then modulating this bit stream (16-QAM type modulation) using the QAMModem () function of the CommPy library\n",
    "Concatenate Z real part with Z imaginary part into S vector its size is (1000000,20)\n",
    "Compute the gradient gradient in order to have X_gd which, when ampliﬁed and then passed through the channel, can guarantee excellent transmission quality.  \n",
    "The vector X contains precoded real symbols concatenated with the imaginary ones.\n",
    "Then update IBO Coefficients where Input Back-Off in a power amplifier, is a measure of how far you must reduce the input power in order to receive the desired output linearity and power.\n",
    "    Determine the distortion vector (d) and the PA Gain complex (K0) using hpa_sspa_modif_rapp() and find_K0_sigma2_d() functions.\n",
    "    Where Vin and Vout are the input / output of Power amplifier PA.\"\"\"\n",
    "for j in range(1000000):\n",
    "    bits = np.random.randint(2, size=int(N_bits))  \n",
    "    QAM16 = QAMModem(16)  \n",
    "    z = QAM16.modulate(bits)\n",
    "    Z = np.reshape(z, (1, 10)).T\n",
    "    ZZ[j] = Z.T\n",
    "    reals = np.real(Z.T)\n",
    "    imags = np.imag(Z.T)\n",
    "    s = np.concatenate((reals, imags), axis=1)\n",
    "    S[j] = s\n",
    "    for i in range(Niter):\n",
    "        gdx1 = 2 * np.conj(K0 * np.transpose(H)).dot(K0 * H.dot(x_gd) + H.dot(d) - Z)\n",
    "        x_gd = x_gd - mu1 * gdx1\n",
    "        realx = np.real(x_gd)\n",
    "        imagx = np.imag(x_gd)\n",
    "        x_z = np.concatenate((realx, imagx), axis=0).T\n",
    "        X[j] = x_z\n",
    "        val_IBO_m1dB = (\n",
    "            ((1 / np.sqrt(10 ** -0.1)) ** (2 * p) - 1) ** (1 / (2 * p)) * Vsat / (G)\n",
    "        )\n",
    "        coeff_IBO_m1dB = (\n",
    "            val_IBO_m1dB * np.sqrt((1 / np.var(x_gd))) * np.sqrt(10 ** (-IBO / 10))\n",
    "        )  \n",
    "        vin2 = coeff_IBO_m1dB * x_gd\n",
    "        vout2 = hpa_sspa_modif_rapp(\n",
    "            vin2, Vsat, p, q, G, A, B\n",
    "        ) \n",
    "        K0, sigma2_d = find_K0_sigma2_d(vin2, vout2)\n",
    "        d = vout2 - K0 * vin2  \n",
    "        y_gd = np.array(vout2 / coeff_IBO_m1dB)  \n",
    "       "
   ]
  },
  {
   "cell_type": "code",
   "execution_count": 10,
   "metadata": {},
   "outputs": [],
   "source": [
    "\"\"\" Save S transmitted symbols vector and X precoded symbols vector in datas.npy and datax.npy files \"\"\"\n",
    "from numpy import save\n",
    "save('xdatax.npy', X)\n",
    "save('sdatas.npy',S)"
   ]
  },
  {
   "cell_type": "code",
   "execution_count": null,
   "metadata": {},
   "outputs": [],
   "source": [
    "\"\"\" Load Saved data from datax.npy and datas.npy files instead of runing the hole code above\"\"\"\n",
    "from numpy import load \n",
    "X=load('xdata.npy')\n",
    "S=load('sdata.npy')"
   ]
  },
  {
   "cell_type": "code",
   "execution_count": 11,
   "metadata": {},
   "outputs": [],
   "source": [
    "\"Training dataset\"\n",
    "X_train = S[:900000, :]\n",
    "y_train = X[:900000, :]\n",
    "\"Test dataset\"\n",
    "X_test = S[900000:, :]\n",
    "y_test = X[900000:, :]"
   ]
  },
  {
   "cell_type": "markdown",
   "metadata": {},
   "source": [
    "<h1 style=\"color:#006400\">NN1 Model Architecture</h1>"
   ]
  },
  {
   "cell_type": "code",
   "execution_count": null,
   "metadata": {
    "scrolled": false
   },
   "outputs": [
    {
     "name": "stdout",
     "output_type": "stream",
     "text": [
      "Train on 900000 samples, validate on 100000 samples\n",
      "Epoch 1/1500\n",
      "900000/900000 [==============================] - 5s 5us/step - loss: 0.0065 - mse: 1.1597e-04 - val_loss: 0.0046 - val_mse: 3.3867e-05\n",
      "Epoch 2/1500\n",
      "900000/900000 [==============================] - 5s 5us/step - loss: 0.0043 - mse: 2.9924e-05 - val_loss: 0.0041 - val_mse: 2.7348e-05\n",
      "Epoch 3/1500\n",
      "900000/900000 [==============================] - 5s 5us/step - loss: 0.0040 - mse: 2.5999e-05 - val_loss: 0.0039 - val_mse: 2.5109e-05\n",
      "Epoch 4/1500\n",
      "900000/900000 [==============================] - 5s 5us/step - loss: 0.0038 - mse: 2.4109e-05 - val_loss: 0.0038 - val_mse: 2.3351e-05\n",
      "Epoch 5/1500\n",
      "900000/900000 [==============================] - 5s 5us/step - loss: 0.0037 - mse: 2.2876e-05 - val_loss: 0.0037 - val_mse: 2.2151e-05\n",
      "Epoch 6/1500\n",
      "900000/900000 [==============================] - 5s 5us/step - loss: 0.0036 - mse: 2.0970e-05 - val_loss: 0.0035 - val_mse: 1.9753e-05\n",
      "Epoch 7/1500\n",
      "900000/900000 [==============================] - 5s 5us/step - loss: 0.0034 - mse: 1.9299e-05 - val_loss: 0.0033 - val_mse: 1.8506e-05\n",
      "Epoch 8/1500\n",
      "900000/900000 [==============================] - 5s 5us/step - loss: 0.0033 - mse: 1.8068e-05 - val_loss: 0.0033 - val_mse: 1.7828e-05\n",
      "Epoch 9/1500\n",
      "900000/900000 [==============================] - 11s 12us/step - loss: 0.0032 - mse: 1.7179e-05 - val_loss: 0.0031 - val_mse: 1.6446e-05\n",
      "Epoch 10/1500\n",
      "900000/900000 [==============================] - 5s 5us/step - loss: 0.0031 - mse: 1.6579e-05 - val_loss: 0.0031 - val_mse: 1.6067e-05\n",
      "Epoch 11/1500\n",
      "900000/900000 [==============================] - 8s 9us/step - loss: 0.0031 - mse: 1.6276e-05 - val_loss: 0.0031 - val_mse: 1.6318e-05\n",
      "Epoch 12/1500\n",
      "900000/900000 [==============================] - 9s 10us/step - loss: 0.0031 - mse: 1.5808e-05 - val_loss: 0.0030 - val_mse: 1.5456e-05\n",
      "Epoch 13/1500\n",
      "900000/900000 [==============================] - 9s 10us/step - loss: 0.0030 - mse: 1.5433e-05 - val_loss: 0.0030 - val_mse: 1.5574e-05\n",
      "Epoch 14/1500\n",
      "900000/900000 [==============================] - 9s 10us/step - loss: 0.0030 - mse: 1.5365e-05 - val_loss: 0.0030 - val_mse: 1.5151e-05\n",
      "Epoch 15/1500\n",
      "900000/900000 [==============================] - 9s 10us/step - loss: 0.0030 - mse: 1.5317e-05 - val_loss: 0.0030 - val_mse: 1.5387e-05\n",
      "Epoch 16/1500\n",
      "900000/900000 [==============================] - 9s 10us/step - loss: 0.0030 - mse: 1.4940e-05 - val_loss: 0.0029 - val_mse: 1.4529e-05\n",
      "Epoch 17/1500\n",
      "900000/900000 [==============================] - 9s 10us/step - loss: 0.0029 - mse: 1.4311e-05 - val_loss: 0.0029 - val_mse: 1.4203e-05\n",
      "Epoch 18/1500\n",
      "900000/900000 [==============================] - 9s 10us/step - loss: 0.0028 - mse: 1.3713e-05 - val_loss: 0.0028 - val_mse: 1.3253e-05\n",
      "Epoch 19/1500\n",
      "900000/900000 [==============================] - 9s 10us/step - loss: 0.0028 - mse: 1.3388e-05 - val_loss: 0.0028 - val_mse: 1.3196e-05\n",
      "Epoch 20/1500\n",
      "900000/900000 [==============================] - 9s 10us/step - loss: 0.0028 - mse: 1.3285e-05 - val_loss: 0.0027 - val_mse: 1.3039e-05\n",
      "Epoch 21/1500\n",
      "900000/900000 [==============================] - 9s 10us/step - loss: 0.0028 - mse: 1.3072e-05 - val_loss: 0.0028 - val_mse: 1.3068e-05\n",
      "Epoch 22/1500\n",
      "900000/900000 [==============================] - 9s 10us/step - loss: 0.0028 - mse: 1.3037e-05 - val_loss: 0.0028 - val_mse: 1.3128e-05\n",
      "Epoch 23/1500\n",
      "900000/900000 [==============================] - 15s 17us/step - loss: 0.0027 - mse: 1.3024e-05 - val_loss: 0.0027 - val_mse: 1.2974e-05\n",
      "Epoch 24/1500\n",
      "900000/900000 [==============================] - 9s 10us/step - loss: 0.0027 - mse: 1.2842e-05 - val_loss: 0.0027 - val_mse: 1.2815e-05\n",
      "Epoch 25/1500\n",
      "900000/900000 [==============================] - 9s 10us/step - loss: 0.0027 - mse: 1.2666e-05 - val_loss: 0.0027 - val_mse: 1.2591e-05\n",
      "Epoch 26/1500\n",
      "900000/900000 [==============================] - 9s 10us/step - loss: 0.0027 - mse: 1.2544e-05 - val_loss: 0.0027 - val_mse: 1.2302e-05\n",
      "Epoch 27/1500\n",
      "900000/900000 [==============================] - 9s 10us/step - loss: 0.0027 - mse: 1.2517e-05 - val_loss: 0.0027 - val_mse: 1.2453e-05\n",
      "Epoch 28/1500\n",
      "900000/900000 [==============================] - 9s 10us/step - loss: 0.0027 - mse: 1.2307e-05 - val_loss: 0.0026 - val_mse: 1.2118e-05\n",
      "Epoch 29/1500\n",
      "900000/900000 [==============================] - 9s 10us/step - loss: 0.0027 - mse: 1.2277e-05 - val_loss: 0.0027 - val_mse: 1.2304e-05\n",
      "Epoch 30/1500\n",
      "900000/900000 [==============================] - 9s 10us/step - loss: 0.0027 - mse: 1.2290e-05 - val_loss: 0.0027 - val_mse: 1.2370e-05\n",
      "Epoch 31/1500\n",
      "900000/900000 [==============================] - 9s 10us/step - loss: 0.0026 - mse: 1.2281e-05 - val_loss: 0.0027 - val_mse: 1.2385e-05\n",
      "Epoch 32/1500\n",
      "559000/900000 [=================>............] - ETA: 3s - loss: 0.0026 - mse: 1.2290e-05"
     ]
    }
   ],
   "source": [
    "keras.optimizers.Adamax(learning_rate=0.9, beta_1=0.999, beta_2=0.999)\n",
    "model = Sequential()\n",
    "model.add(\n",
    "    Dense(units=500, kernel_initializer=\"uniform\", activation=\"relu\", input_dim=20)\n",
    ")\n",
    "model.add(\n",
    "    Dense(units=200, kernel_initializer=\"uniform\", activation=\"relu\")\n",
    ")\n",
    "model.add(\n",
    "    Dense(units=200, kernel_initializer=\"uniform\", activation=\"selu\")\n",
    ")\n",
    "model.compile(optimizer=\"Adamax\", loss=\"mae\", metrics=['mse'])\n",
    "history = model.fit(\n",
    "    X_train,\n",
    "    y_train,\n",
    "    validation_data=(X_test, y_test),\n",
    "    batch_size=1000,\n",
    "    epochs=1500,\n",
    "    shuffle=True,\n",
    ")\n"
   ]
  },
  {
   "cell_type": "markdown",
   "metadata": {},
   "source": [
    "<h1 style=\"color:#006400\"> Loss Representation</h1>"
   ]
  },
  {
   "cell_type": "code",
   "execution_count": 14,
   "metadata": {},
   "outputs": [
    {
     "data": {
      "image/png": "[encoded data removed]",
      "text/plain": [
       "<Figure size 432x288 with 1 Axes>"
      ]
     },
     "metadata": {
      "needs_background": "light"
     },
     "output_type": "display_data"
    }
   ],
   "source": [
    "plt.plot(history.history['loss'])\n",
    "plt.plot(history.history['val_loss'])\n",
    "plt.title('Model loss')\n",
    "plt.grid(True,which=\"both\", linestyle='--')\n",
    "plt.ylabel('Loss') \n",
    "plt.yscale('log')\n",
    "plt.xlabel('Epoch')\n",
    "plt.legend(['Train','Test'], loc='upper left')\n",
    "plt.show()"
   ]
  },
  {
   "cell_type": "markdown",
   "metadata": {},
   "source": [
    "<h1 style=\"color:#006400\">NN1 Predictions</h1>"
   ]
  },
  {
   "cell_type": "code",
   "execution_count": 27,
   "metadata": {},
   "outputs": [],
   "source": [
    "y_pred = model.predict(X_train)\n",
    "y_predt = model.predict(X_test)"
   ]
  },
  {
   "cell_type": "markdown",
   "metadata": {},
   "source": [
    "<h1 style=\"color:#006400\">NN1 Weights</h1>"
   ]
  },
  {
   "cell_type": "code",
   "execution_count": null,
   "metadata": {},
   "outputs": [],
   "source": [
    "\"\"\" Recovering the weight vector of our model NN1 using the function get_weights ().\n",
    "    This vector will be the desired output of the NN2 model.\"\"\"\n",
    "first_layer_weights =model.layers[0].get_weights()[0] \n",
    "first=first_layer_weights.flatten()\n",
    "first_layer_biases  = model.layers[0].get_weights()[1]\n",
    "first_layer=np.concatenate((first,first_layer_biases),axis=0)\n",
    "second_layer_weights = model.layers[1].get_weights()[0]\n",
    "second=second_layer_weights.flatten()\n",
    "second_layer_biases  = model.layers[1].get_weights()[1]\n",
    "second_layer=np.concatenate((second,second_layer_biases),axis=0)\n",
    "weights=np.concatenate((first_layer,second_layer),axis=0)\n",
    "print (len(weights))"
   ]
  },
  {
   "cell_type": "markdown",
   "metadata": {},
   "source": [
    "<h1 style=\"color:#006400\">Simulation Results</h1>"
   ]
  },
  {
   "cell_type": "markdown",
   "metadata": {},
   "source": [
    "#### Verify test NMSE"
   ]
  },
  {
   "cell_type": "code",
   "execution_count": 29,
   "metadata": {},
   "outputs": [
    {
     "name": "stdout",
     "output_type": "stream",
     "text": [
      "-32.90790375349826\n"
     ]
    }
   ],
   "source": [
    "NMSE = np.zeros([100000, 1])\n",
    "recievehh = np.zeros([100000, 10], dtype=complex)\n",
    "Y_gdr = y_predt[:100000, :100]\n",
    "Y_gdi = 1j * y_predt[:100000, 100:]\n",
    "Y_gd = Y_gdr + Y_gdi\n",
    "Shr = X_test[:100000, :10]\n",
    "Shi = 1j * X_test[:100000, 10:20]\n",
    "SSh = Shr + Shi\n",
    "for i in range(100000):\n",
    "    val_IBO_m1dB = (\n",
    "        ((1 / np.sqrt(10 ** -0.1)) ** (2 * p) - 1) ** (1 / (2 * p)) * Vsat / (G)\n",
    "    )\n",
    "    coeff_IBO_m1dB = (\n",
    "        val_IBO_m1dB * np.sqrt((1 / np.var(Y_gd[i]))) * np.sqrt(10 ** (-IBO / 10))\n",
    "    )\n",
    "    vin2 = coeff_IBO_m1dB * Y_gd[i]\n",
    "    vout2 = hpa_sspa_modif_rapp(vin2, Vsat, p, q, G, A, B)\n",
    "    Y_gd_amp = vout2 / coeff_IBO_m1dB\n",
    "    recieveh = (H.dot(Y_gd_amp)).reshape((10))\n",
    "    recievehh[i] = recieveh\n",
    "    NMSE[i] = np.mean(np.abs(SSh[i] - recieveh) ** 2) / np.mean(np.abs(SSh[i]) ** 2)\n",
    "    NMSEdb = 10 * np.log10(np.mean(NMSE)) \n",
    "print(NMSEdb)"
   ]
  }
 ],
 "metadata": {
  "kernelspec": {
   "display_name": "Python 3",
   "language": "python",
   "name": "python3"
  },
  "language_info": {
   "codemirror_mode": {
    "name": "ipython",
    "version": 3
   },
   "file_extension": ".py",
   "mimetype": "text/x-python",
   "name": "python",
   "nbconvert_exporter": "python",
   "pygments_lexer": "ipython3",
   "version": "3.6.9"
  }
 },
 "nbformat": 4,
 "nbformat_minor": 2
}
