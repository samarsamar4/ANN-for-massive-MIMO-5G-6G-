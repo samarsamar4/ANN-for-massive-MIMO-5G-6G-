{
 "cells": [
  {
   "cell_type": "markdown",
   "metadata": {},
   "source": [
    "<h1 style=\"color:#191970; font-size:38px\">MIMO-NN1</h1>"
   ]
  },
  {
   "cell_type": "markdown",
   "metadata": {},
   "source": [
    "<h1 style=\"color:#006400\">Tools</h1>"
   ]
  },
  {
   "cell_type": "markdown",
   "metadata": {},
   "source": [
    "<h1 style=\"color:#FF5733 ; font-size:15px\"> CommPy</h1> is an open source toolkit implementing digital communications algorithms in Python using NumPy and SciPy."
   ]
  },
  {
   "cell_type": "code",
   "execution_count": 1,
   "metadata": {},
   "outputs": [
    {
     "name": "stdout",
     "output_type": "stream",
     "text": [
      "Requirement already satisfied: scikit-commpy in c:\\programdata\\anaconda3\\lib\\site-packages (0.5.0)\n",
      "Requirement already satisfied: numpy in c:\\programdata\\anaconda3\\lib\\site-packages (from scikit-commpy) (1.18.2)\n",
      "Requirement already satisfied: scipy in c:\\programdata\\anaconda3\\lib\\site-packages (from scikit-commpy) (1.2.0)\n",
      "Requirement already satisfied: matplotlib in c:\\programdata\\anaconda3\\lib\\site-packages (from scikit-commpy) (3.1.3)\n",
      "Requirement already satisfied: python-dateutil>=2.1 in c:\\programdata\\anaconda3\\lib\\site-packages (from matplotlib->scikit-commpy) (2.8.0)\n",
      "Requirement already satisfied: kiwisolver>=1.0.1 in c:\\programdata\\anaconda3\\lib\\site-packages (from matplotlib->scikit-commpy) (1.1.0)\n",
      "Requirement already satisfied: cycler>=0.10 in c:\\programdata\\anaconda3\\lib\\site-packages (from matplotlib->scikit-commpy) (0.10.0)\n",
      "Requirement already satisfied: pyparsing!=2.0.4,!=2.1.2,!=2.1.6,>=2.0.1 in c:\\programdata\\anaconda3\\lib\\site-packages (from matplotlib->scikit-commpy) (2.4.0)\n",
      "Requirement already satisfied: six>=1.5 in c:\\programdata\\anaconda3\\lib\\site-packages (from python-dateutil>=2.1->matplotlib->scikit-commpy) (1.14.0)\n",
      "Requirement already satisfied: setuptools in c:\\programdata\\anaconda3\\lib\\site-packages (from kiwisolver>=1.0.1->matplotlib->scikit-commpy) (46.1.3)\n",
      "Note: you may need to restart the kernel to use updated packages.\n"
     ]
    }
   ],
   "source": [
    "pip install scikit-commpy"
   ]
  },
  {
   "cell_type": "markdown",
   "metadata": {},
   "source": [
    "<h1 style=\"color:#006400\">Libraries</h1>"
   ]
  },
  {
   "cell_type": "code",
   "execution_count": 73,
   "metadata": {},
   "outputs": [],
   "source": [
    "from statistics import mean\n",
    "import numpy as np\n",
    "from numpy.random import *\n",
    "from numpy import *\n",
    "from numpy.linalg import inv\n",
    "from commpy.utilities import *\n",
    "from commpy.modulation import QAMModem\n",
    "from commpy.channels import *\n",
    "from commpy.links import *\n",
    "from math import *\n",
    "import matplotlib.pyplot as plt\n",
    "import time "
   ]
  },
  {
   "cell_type": "markdown",
   "metadata": {},
   "source": [
    "<h1 style=\"color:#006400\">Functions</h1>"
   ]
  },
  {
   "cell_type": "markdown",
   "metadata": {},
   "source": [
    "### 1. High Power Amplifier Output  "
   ]
  },
  {
   "cell_type": "code",
   "execution_count": 74,
   "metadata": {},
   "outputs": [],
   "source": [
    "def hpa_sspa_modif_rapp(vin,Vsat,p,q,G,A,B):\n",
    "    A=-345\n",
    "    a0=abs(vin)\n",
    "    theta=np.angle(vin)\n",
    "    Am=(G*a0)/((1+(G*a0/Vsat)**(2*p))**(1/(2*p)))\n",
    "    Bm=(A*(a0**q))/((1+(a0/B)**(q)))\n",
    "    vout=Am*np.exp(1j*(theta+Bm))\n",
    "    return(vout)\n",
    "    "
   ]
  },
  {
   "cell_type": "markdown",
   "metadata": {},
   "source": [
    "### 2. Non Linear Distortion Parameters  "
   ]
  },
  {
   "cell_type": "code",
   "execution_count": 75,
   "metadata": {},
   "outputs": [],
   "source": [
    "def find_K0_sigma2_d(vin,vout):\n",
    "    K0 = np.mean(vout*np.conj(vin))/np.mean(np.absolute(vin)**2)\n",
    "    sigma2_d = np.var(vout - K0*vin)\n",
    "    return(K0,sigma2_d)"
   ]
  },
  {
   "cell_type": "markdown",
   "metadata": {},
   "source": [
    "<h1 style=\"color:#006400\">Basic PA Non linear Distortion Model </h1>"
   ]
  },
  {
   "cell_type": "code",
   "execution_count": 76,
   "metadata": {},
   "outputs": [
    {
     "name": "stdout",
     "output_type": "stream",
     "text": [
      "(12.808648611229737-0.4425297486173269j)\n",
      "0.013454168638490919\n"
     ]
    }
   ],
   "source": [
    "IBO=1\n",
    "p=1.1\n",
    "q=4\n",
    "Vsat=1.9\n",
    "G=16\n",
    "A=-345\n",
    "B=0.17\n",
    "val_IBO_m1dB=((1/np.sqrt(10**-0.1))**(2*p)-1)**(1/(2*p))*Vsat/(G)\n",
    "coeff_IBO_m1dB=val_IBO_m1dB*np.sqrt(10**(-IBO/10))\n",
    "s=np.random.randn(1,1000000)\n",
    "vin1 = np.sqrt(1/2)*(s+1j*s)\n",
    "vin01 = coeff_IBO_m1dB*vin1\n",
    "a0=np.absolute(vin01)\n",
    "a02=a0**2  \n",
    "theta=np.angle(vin01)\n",
    "Am=(G*a0)/((1+(G*a0/Vsat)**(2*p))**(1/(2*p)))\n",
    "Bm=(A*(a0**q))/((1+(a0/B)**(q)))\n",
    "Sm=Am*np.exp(1j*(Bm))\n",
    "vout1=Am*np.exp(1j*(theta+Bm))\n",
    "K0 = np.mean(vout1*np.conj(vin01))/np.mean(np.absolute(vin01)**2)\n",
    "sigma2_d = np.var(vout1 - K0*vin01) \n",
    "print(K0)\n",
    "print(sigma2_d)"
   ]
  },
  {
   "cell_type": "markdown",
   "metadata": {},
   "source": [
    "<h1 style=\"color:#006400\">Training Dataset </h1>"
   ]
  },
  
   {
   "cell_type": "code",
   "execution_count": null,
   "metadata": {
    "scrolled": false
   },
   "outputs": [],
   "source": [
    "Mr=10\n",
    "Mt=100\n",
    "M=16\n",
    "SNRdb=600\n",
    "N_bits=Mr*np.log2(M)\n",
    "MSE=np.zeros((Mt,50))\n",
    "x_gd_amp0=np.zeros((Mt,1))\n",
    "y_gd_r0=np.zeros([Mt,100])\n",
    "PAPR_GD=np.zeros((Mt,1))\n",
    "MUIgdi= np.zeros((Mt,1))\n",
    "SERgdi=np.zeros((Mt,1))\n",
    "BERgdi=np.zeros((Mt,1))\n",
    "GD_Execution_time=0\n",
    "HH=np.zeros((1,2000))\n",
    "S=np.zeros((165000,20))\n",
    "ZZ=np.zeros((165000,10),dtype=complex)\n",
    "Niter=50\n",
    "mu1=0.0022\n",
    "lamda=0.00071\n",
    "mu2=1\n",
    "eps=1e-2\n",
    "x_gd=np.zeros([Mt,1])\n",
    "X_gd=np.zeros((165000,100))\n",
    "gdx1=np.zeros([Mt,Niter])\n",
    "d=np.zeros([Mt,1])\n",
    "X=np.zeros((165000,200))\n",
    "H=(1/np.sqrt(2*Mt))*(np.random.randn(Mr,Mt)+1j*np.random.randn(Mr,Mt))\n",
    "HR=H.flatten()\n",
    "realh=np.real(HR)\n",
    "imagh=np.imag(HR)\n",
    "Hr=np.concatenate((realh,imagh),axis=0).reshape(-1,1)\n",
    "Hr=np.reshape(Hr, (2000, 1)).T\n",
    "HH=Hr\n",
    "for j in range(165000):\n",
    "    bits = np.random.randint(2, size=int(N_bits))\n",
    "    QAM16 = QAMModem(16)\n",
    "    z=QAM16.modulate(bits)\n",
    "    Z = np.reshape(z, (1, 10)).T\n",
    "    ZZ[j]=Z.T\n",
    "    reals=np.real(Z.T)\n",
    "    imags=np.imag(Z.T)\n",
    "    s=np.concatenate((reals,imags),axis=1)\n",
    "    S[j]=s\n",
    "    ## CDm algo\n",
    "    for i in range(Niter):\n",
    "        gdx1=2*np.conj(K0*np.transpose(H)).dot(K0*H.dot(x_gd)+H.dot(d)-Z)\n",
    "        x_gd=x_gd-mu1*gdx1\n",
    "        realx=np.real( x_gd)\n",
    "        imagx=np.imag( x_gd)\n",
    "        x_z=np.concatenate((realx,imagx),axis=0).T\n",
    "        X[j]=x_z\n",
    "        ## HPA \n",
    "        val_IBO_m1dB=((1/np.sqrt(10**-0.1))**(2*p)-1)**(1/(2*p))*Vsat/(G)\n",
    "        coeff_IBO_m1dB=val_IBO_m1dB*np.sqrt((1/np.var(x_gd)))*np.sqrt(10**(-IBO/10))\n",
    "        vin2=coeff_IBO_m1dB*x_gd\n",
    "        vout2=hpa_sspa_modif_rapp(vin2,Vsat,p,q,G,A,B)\n",
    "        K0,sigma2_d=find_K0_sigma2_d (vin2,vout2)\n",
    "        d=vout2-K0*vin2\n",
    "        y_gd =np.array(vout2/coeff_IBO_m1dB)\n",
    "print(X)        "
   ]
  },
  {
   "cell_type": "markdown",
   "metadata": {},
   "source": [
    "<h1 style=\"color:#006400\"> Data Normalization </h1>"
   ]
  },
  {
   "cell_type": "code",
   "execution_count": null,
   "metadata": {},
   "outputs": [],
   "source": [
    "X_train=S[:200000,:]\n",
    "y_train=X[:200000,:]\n",
    "\n",
    "X_test=S[200000:,:]\n",
    "y_test=X[200000:,:] \n"
   ]
  },
  {
   "cell_type": "markdown",
   "metadata": {},
   "source": [
    "<h1 style=\"color:#006400\"> Artifical Neural Network</h1>"
   ]
  },
  
  {
   "cell_type": "code",
   "execution_count": 65,
   "metadata": {},
   "outputs": [
    {
     "name": "stdout",
     "output_type": "stream",
     "text": [
      "Train on 163000 samples, validate on 2000 samples\n",
      "Epoch 1/500\n",
      "163000/163000 [==============================] - 11s 69us/step - loss: 0.2359 - accuracy: 0.0190 - val_loss: 0.1855 - val_accuracy: 0.0270\n",
      "Epoch 2/500\n",
      "163000/163000 [==============================] - 7s 45us/step - loss: 0.1442 - accuracy: 0.0262 - val_loss: 0.0872 - val_accuracy: 0.0500\n",
      "Epoch 3/500\n",
      "163000/163000 [==============================] - 7s 42us/step - loss: 0.0873 - accuracy: 0.0380 - val_loss: 0.0840 - val_accuracy: 0.0300\n",
      "Epoch 4/500\n",
      "163000/163000 [==============================] - 7s 41us/step - loss: 0.0646 - accuracy: 0.0775 - val_loss: 0.0633 - val_accuracy: 0.0555\n",
      "Epoch 5/500\n",
      "163000/163000 [==============================] - 7s 41us/step - loss: 0.0557 - accuracy: 0.0643 - val_loss: 0.0422 - val_accuracy: 0.1340\n",
      "Epoch 6/500\n",
      "163000/163000 [==============================] - 7s 40us/step - loss: 0.0434 - accuracy: 0.1253 - val_loss: 0.0367 - val_accuracy: 0.2335\n",
      "Epoch 7/500\n",
      "163000/163000 [==============================] - 7s 40us/step - loss: 0.0351 - accuracy: 0.2248 - val_loss: 0.0325 - val_accuracy: 0.2565\n",
      "Epoch 8/500\n",
      "163000/163000 [==============================] - 7s 41us/step - loss: 0.0302 - accuracy: 0.3013 - val_loss: 0.0278 - val_accuracy: 0.3255\n",
      "Epoch 9/500\n",
      "163000/163000 [==============================] - 7s 43us/step - loss: 0.0268 - accuracy: 0.3449 - val_loss: 0.0251 - val_accuracy: 0.3605\n",
      "Epoch 10/500\n",
      "163000/163000 [==============================] - 7s 43us/step - loss: 0.0243 - accuracy: 0.3858 - val_loss: 0.0226 - val_accuracy: 0.4555\n",
      "Epoch 11/500\n",
      "163000/163000 [==============================] - 7s 45us/step - loss: 0.0224 - accuracy: 0.4429 - val_loss: 0.0215 - val_accuracy: 0.4505\n",
      "Epoch 12/500\n",
      "163000/163000 [==============================] - 7s 43us/step - loss: 0.0210 - accuracy: 0.4790 - val_loss: 0.0202 - val_accuracy: 0.4985\n",
      "Epoch 13/500\n",
      "163000/163000 [==============================] - 7s 45us/step - loss: 0.0200 - accuracy: 0.5027 - val_loss: 0.0195 - val_accuracy: 0.5095\n",
      "Epoch 14/500\n",
      "163000/163000 [==============================] - 7s 43us/step - loss: 0.0191 - accuracy: 0.5253 - val_loss: 0.0187 - val_accuracy: 0.5385\n",
      "Epoch 15/500\n",
      "163000/163000 [==============================] - 9s 57us/step - loss: 0.0184 - accuracy: 0.5442 - val_loss: 0.0182 - val_accuracy: 0.5545\n",
      "Epoch 16/500\n",
      "163000/163000 [==============================] - 7s 45us/step - loss: 0.0179 - accuracy: 0.5587 - val_loss: 0.0177 - val_accuracy: 0.5665\n",
      "Epoch 17/500\n",
      "163000/163000 [==============================] - 7s 44us/step - loss: 0.0174 - accuracy: 0.5694 - val_loss: 0.0172 - val_accuracy: 0.5765\n",
      "Epoch 18/500\n",
      "163000/163000 [==============================] - 8s 49us/step - loss: 0.0170 - accuracy: 0.5784 - val_loss: 0.0168 - val_accuracy: 0.5830\n",
      "Epoch 19/500\n",
      "163000/163000 [==============================] - 8s 49us/step - loss: 0.0166 - accuracy: 0.5871 - val_loss: 0.0164 - val_accuracy: 0.5935\n",
      "Epoch 20/500\n",
      "163000/163000 [==============================] - 7s 45us/step - loss: 0.0163 - accuracy: 0.5944 - val_loss: 0.0161 - val_accuracy: 0.6000\n",
      "Epoch 21/500\n",
      "163000/163000 [==============================] - 8s 46us/step - loss: 0.0160 - accuracy: 0.6027 - val_loss: 0.0158 - val_accuracy: 0.6090\n",
      "Epoch 22/500\n",
      "163000/163000 [==============================] - 7s 43us/step - loss: 0.0157 - accuracy: 0.6093 - val_loss: 0.0156 - val_accuracy: 0.6140\n",
      "Epoch 23/500\n",
      "163000/163000 [==============================] - 7s 43us/step - loss: 0.0154 - accuracy: 0.6160 - val_loss: 0.0153 - val_accuracy: 0.6255\n",
      "Epoch 24/500\n",
      "163000/163000 [==============================] - 7s 43us/step - loss: 0.0151 - accuracy: 0.6227 - val_loss: 0.0150 - val_accuracy: 0.6290\n",
      "Epoch 25/500\n",
      "163000/163000 [==============================] - 7s 43us/step - loss: 0.0149 - accuracy: 0.6292 - val_loss: 0.0148 - val_accuracy: 0.6275\n",
      "Epoch 26/500\n",
      "163000/163000 [==============================] - 7s 43us/step - loss: 0.0147 - accuracy: 0.6341 - val_loss: 0.0146 - val_accuracy: 0.6310\n",
      "Epoch 27/500\n",
      "163000/163000 [==============================] - 7s 46us/step - loss: 0.0145 - accuracy: 0.6393 - val_loss: 0.0144 - val_accuracy: 0.6405\n",
      "Epoch 28/500\n",
      "163000/163000 [==============================] - 9s 54us/step - loss: 0.0143 - accuracy: 0.6435 - val_loss: 0.0142 - val_accuracy: 0.6465\n",
      "Epoch 29/500\n",
      "163000/163000 [==============================] - 8s 47us/step - loss: 0.0141 - accuracy: 0.6489 - val_loss: 0.0141 - val_accuracy: 0.6435\n",
      "Epoch 30/500\n",
      "163000/163000 [==============================] - 7s 45us/step - loss: 0.0139 - accuracy: 0.6525 - val_loss: 0.0139 - val_accuracy: 0.6535\n",
      "Epoch 31/500\n",
      "163000/163000 [==============================] - 7s 43us/step - loss: 0.0138 - accuracy: 0.6582 - val_loss: 0.0138 - val_accuracy: 0.6555\n",
      "Epoch 32/500\n",
      "163000/163000 [==============================] - 7s 45us/step - loss: 0.0136 - accuracy: 0.6613 - val_loss: 0.0136 - val_accuracy: 0.6625\n",
      "Epoch 33/500\n",
      "163000/163000 [==============================] - 7s 44us/step - loss: 0.0135 - accuracy: 0.6654 - val_loss: 0.0135 - val_accuracy: 0.6640\n",
      "Epoch 34/500\n",
      "163000/163000 [==============================] - 7s 44us/step - loss: 0.0134 - accuracy: 0.6684 - val_loss: 0.0133 - val_accuracy: 0.6660\n",
      "Epoch 35/500\n",
      "163000/163000 [==============================] - 8s 46us/step - loss: 0.0132 - accuracy: 0.6732 - val_loss: 0.0132 - val_accuracy: 0.6740\n",
      "Epoch 36/500\n",
      "163000/163000 [==============================] - 7s 45us/step - loss: 0.0131 - accuracy: 0.6779 - val_loss: 0.0131 - val_accuracy: 0.6780\n",
      "Epoch 37/500\n",
      "163000/163000 [==============================] - 7s 45us/step - loss: 0.0130 - accuracy: 0.6793 - val_loss: 0.0130 - val_accuracy: 0.6715\n",
      "Epoch 38/500\n",
      "163000/163000 [==============================] - 7s 44us/step - loss: 0.0128 - accuracy: 0.6838 - val_loss: 0.0128 - val_accuracy: 0.6805\n",
      "Epoch 39/500\n",
      "163000/163000 [==============================] - 7s 43us/step - loss: 0.0127 - accuracy: 0.6878 - val_loss: 0.0127 - val_accuracy: 0.6855\n",
      "Epoch 40/500\n",
      "163000/163000 [==============================] - 8s 50us/step - loss: 0.0126 - accuracy: 0.6913 - val_loss: 0.0126 - val_accuracy: 0.6840\n",
      "Epoch 41/500\n",
      "163000/163000 [==============================] - 7s 45us/step - loss: 0.0125 - accuracy: 0.6922 - val_loss: 0.0125 - val_accuracy: 0.7000\n",
      "Epoch 42/500\n",
      "163000/163000 [==============================] - 7s 45us/step - loss: 0.0124 - accuracy: 0.6967 - val_loss: 0.0124 - val_accuracy: 0.6990\n",
      "Epoch 43/500\n",
      "163000/163000 [==============================] - 7s 44us/step - loss: 0.0122 - accuracy: 0.7001 - val_loss: 0.0122 - val_accuracy: 0.7045\n",
      "Epoch 44/500\n",
      "163000/163000 [==============================] - 8s 46us/step - loss: 0.0121 - accuracy: 0.7028 - val_loss: 0.0122 - val_accuracy: 0.6990\n",
      "Epoch 45/500\n",
      "163000/163000 [==============================] - 8s 46us/step - loss: 0.0120 - accuracy: 0.7049 - val_loss: 0.0121 - val_accuracy: 0.7040\n",
      "Epoch 46/500\n",
      "163000/163000 [==============================] - 8s 46us/step - loss: 0.0120 - accuracy: 0.7067 - val_loss: 0.0120 - val_accuracy: 0.7035\n",
      "Epoch 47/500\n",
      "163000/163000 [==============================] - 7s 45us/step - loss: 0.0118 - accuracy: 0.7116 - val_loss: 0.0118 - val_accuracy: 0.7065\n",
      "Epoch 48/500\n",
      "163000/163000 [==============================] - 7s 44us/step - loss: 0.0117 - accuracy: 0.7143 - val_loss: 0.0118 - val_accuracy: 0.7035\n",
      "Epoch 49/500\n",
      "163000/163000 [==============================] - 7s 46us/step - loss: 0.0117 - accuracy: 0.7170 - val_loss: 0.0117 - val_accuracy: 0.7020\n",
      "Epoch 50/500\n",
      "163000/163000 [==============================] - 8s 47us/step - loss: 0.0116 - accuracy: 0.7188 - val_loss: 0.0116 - val_accuracy: 0.7135\n",
      "Epoch 51/500\n",
      "163000/163000 [==============================] - 8s 49us/step - loss: 0.0115 - accuracy: 0.7219 - val_loss: 0.0115 - val_accuracy: 0.7275\n",
      "Epoch 52/500\n",
      "163000/163000 [==============================] - 8s 48us/step - loss: 0.0114 - accuracy: 0.7243 - val_loss: 0.0114 - val_accuracy: 0.7160\n",
      "Epoch 53/500\n",
      "163000/163000 [==============================] - 7s 45us/step - loss: 0.0113 - accuracy: 0.7263 - val_loss: 0.0113 - val_accuracy: 0.7295\n",
      "Epoch 54/500\n",
      "163000/163000 [==============================] - 9s 54us/step - loss: 0.0112 - accuracy: 0.7306 - val_loss: 0.0113 - val_accuracy: 0.7275\n"
     ]
    },
    {
     "name": "stdout",
     "output_type": "stream",
     "text": [
      "Epoch 55/500\n",
      "163000/163000 [==============================] - 8s 47us/step - loss: 0.0112 - accuracy: 0.7309 - val_loss: 0.0111 - val_accuracy: 0.7185\n",
      "Epoch 56/500\n",
      "163000/163000 [==============================] - 8s 47us/step - loss: 0.0111 - accuracy: 0.7339 - val_loss: 0.0111 - val_accuracy: 0.7285\n",
      "Epoch 57/500\n",
      "163000/163000 [==============================] - 8s 47us/step - loss: 0.0110 - accuracy: 0.7362 - val_loss: 0.0111 - val_accuracy: 0.7250\n",
      "Epoch 58/500\n",
      "163000/163000 [==============================] - 9s 56us/step - loss: 0.0109 - accuracy: 0.7390 - val_loss: 0.0109 - val_accuracy: 0.7345\n",
      "Epoch 59/500\n",
      "163000/163000 [==============================] - 7s 45us/step - loss: 0.0108 - accuracy: 0.7404 - val_loss: 0.0109 - val_accuracy: 0.7405\n",
      "Epoch 60/500\n",
      "163000/163000 [==============================] - 9s 53us/step - loss: 0.0108 - accuracy: 0.7428 - val_loss: 0.0109 - val_accuracy: 0.7420\n",
      "Epoch 61/500\n"
     ]
    },
    {
     "ename": "KeyboardInterrupt",
     "evalue": "",
     "output_type": "error",
     "traceback": [
      "\u001b[1;31m---------------------------------------------------------------------------\u001b[0m",
      "\u001b[1;31mKeyboardInterrupt\u001b[0m                         Traceback (most recent call last)",
      "\u001b[1;32m<ipython-input-65-a5bb9421c55e>\u001b[0m in \u001b[0;36m<module>\u001b[1;34m\u001b[0m\n\u001b[0;32m      8\u001b[0m \u001b[0mmodel\u001b[0m\u001b[1;33m.\u001b[0m\u001b[0madd\u001b[0m\u001b[1;33m(\u001b[0m\u001b[0mDense\u001b[0m\u001b[1;33m(\u001b[0m\u001b[0munits\u001b[0m \u001b[1;33m=\u001b[0m\u001b[1;36m200\u001b[0m\u001b[1;33m,\u001b[0m \u001b[0mkernel_initializer\u001b[0m \u001b[1;33m=\u001b[0m \u001b[1;34m'uniform'\u001b[0m\u001b[1;33m,\u001b[0m \u001b[0mactivation\u001b[0m \u001b[1;33m=\u001b[0m \u001b[1;34m'selu'\u001b[0m\u001b[1;33m)\u001b[0m\u001b[1;33m)\u001b[0m\u001b[1;33m\u001b[0m\u001b[1;33m\u001b[0m\u001b[0m\n\u001b[0;32m      9\u001b[0m \u001b[0mmodel\u001b[0m\u001b[1;33m.\u001b[0m\u001b[0mcompile\u001b[0m\u001b[1;33m(\u001b[0m\u001b[0moptimizer\u001b[0m \u001b[1;33m=\u001b[0m \u001b[1;34m'Adamax'\u001b[0m\u001b[1;33m,\u001b[0m \u001b[0mloss\u001b[0m \u001b[1;33m=\u001b[0m \u001b[1;34m'mae'\u001b[0m\u001b[1;33m,\u001b[0m \u001b[0mmetrics\u001b[0m \u001b[1;33m=\u001b[0m \u001b[1;33m[\u001b[0m\u001b[1;34m'accuracy'\u001b[0m\u001b[1;33m]\u001b[0m\u001b[1;33m)\u001b[0m\u001b[1;33m\u001b[0m\u001b[1;33m\u001b[0m\u001b[0m\n\u001b[1;32m---> 10\u001b[1;33m \u001b[0mhistory\u001b[0m \u001b[1;33m=\u001b[0m\u001b[0mmodel\u001b[0m\u001b[1;33m.\u001b[0m\u001b[0mfit\u001b[0m\u001b[1;33m(\u001b[0m\u001b[0mX_train\u001b[0m\u001b[1;33m,\u001b[0m \u001b[0my_train\u001b[0m\u001b[1;33m,\u001b[0m \u001b[0mvalidation_data\u001b[0m\u001b[1;33m=\u001b[0m\u001b[1;33m(\u001b[0m\u001b[0mX_test\u001b[0m\u001b[1;33m,\u001b[0m \u001b[0my_test\u001b[0m\u001b[1;33m)\u001b[0m\u001b[1;33m,\u001b[0m \u001b[0mbatch_size\u001b[0m\u001b[1;33m=\u001b[0m\u001b[1;36m50000\u001b[0m\u001b[1;33m,\u001b[0m \u001b[0mepochs\u001b[0m\u001b[1;33m=\u001b[0m\u001b[1;36m500\u001b[0m\u001b[1;33m,\u001b[0m \u001b[0mshuffle\u001b[0m\u001b[1;33m=\u001b[0m\u001b[1;32mFalse\u001b[0m\u001b[1;33m)\u001b[0m\u001b[1;33m\u001b[0m\u001b[1;33m\u001b[0m\u001b[0m\n\u001b[0m",
      "\u001b[1;32mC:\\ProgramData\\Anaconda3\\lib\\site-packages\\keras\\engine\\training.py\u001b[0m in \u001b[0;36mfit\u001b[1;34m(self, x, y, batch_size, epochs, verbose, callbacks, validation_split, validation_data, shuffle, class_weight, sample_weight, initial_epoch, steps_per_epoch, validation_steps, validation_freq, max_queue_size, workers, use_multiprocessing, **kwargs)\u001b[0m\n\u001b[0;32m   1237\u001b[0m                                         \u001b[0msteps_per_epoch\u001b[0m\u001b[1;33m=\u001b[0m\u001b[0msteps_per_epoch\u001b[0m\u001b[1;33m,\u001b[0m\u001b[1;33m\u001b[0m\u001b[1;33m\u001b[0m\u001b[0m\n\u001b[0;32m   1238\u001b[0m                                         \u001b[0mvalidation_steps\u001b[0m\u001b[1;33m=\u001b[0m\u001b[0mvalidation_steps\u001b[0m\u001b[1;33m,\u001b[0m\u001b[1;33m\u001b[0m\u001b[1;33m\u001b[0m\u001b[0m\n\u001b[1;32m-> 1239\u001b[1;33m                                         validation_freq=validation_freq)\n\u001b[0m\u001b[0;32m   1240\u001b[0m \u001b[1;33m\u001b[0m\u001b[0m\n\u001b[0;32m   1241\u001b[0m     def evaluate(self,\n",
      "\u001b[1;32mC:\\ProgramData\\Anaconda3\\lib\\site-packages\\keras\\engine\\training_arrays.py\u001b[0m in \u001b[0;36mfit_loop\u001b[1;34m(model, fit_function, fit_inputs, out_labels, batch_size, epochs, verbose, callbacks, val_function, val_inputs, shuffle, initial_epoch, steps_per_epoch, validation_steps, validation_freq)\u001b[0m\n\u001b[0;32m    194\u001b[0m                     \u001b[0mins_batch\u001b[0m\u001b[1;33m[\u001b[0m\u001b[0mi\u001b[0m\u001b[1;33m]\u001b[0m \u001b[1;33m=\u001b[0m \u001b[0mins_batch\u001b[0m\u001b[1;33m[\u001b[0m\u001b[0mi\u001b[0m\u001b[1;33m]\u001b[0m\u001b[1;33m.\u001b[0m\u001b[0mtoarray\u001b[0m\u001b[1;33m(\u001b[0m\u001b[1;33m)\u001b[0m\u001b[1;33m\u001b[0m\u001b[1;33m\u001b[0m\u001b[0m\n\u001b[0;32m    195\u001b[0m \u001b[1;33m\u001b[0m\u001b[0m\n\u001b[1;32m--> 196\u001b[1;33m                 \u001b[0mouts\u001b[0m \u001b[1;33m=\u001b[0m \u001b[0mfit_function\u001b[0m\u001b[1;33m(\u001b[0m\u001b[0mins_batch\u001b[0m\u001b[1;33m)\u001b[0m\u001b[1;33m\u001b[0m\u001b[1;33m\u001b[0m\u001b[0m\n\u001b[0m\u001b[0;32m    197\u001b[0m                 \u001b[0mouts\u001b[0m \u001b[1;33m=\u001b[0m \u001b[0mto_list\u001b[0m\u001b[1;33m(\u001b[0m\u001b[0mouts\u001b[0m\u001b[1;33m)\u001b[0m\u001b[1;33m\u001b[0m\u001b[1;33m\u001b[0m\u001b[0m\n\u001b[0;32m    198\u001b[0m                 \u001b[1;32mfor\u001b[0m \u001b[0ml\u001b[0m\u001b[1;33m,\u001b[0m \u001b[0mo\u001b[0m \u001b[1;32min\u001b[0m \u001b[0mzip\u001b[0m\u001b[1;33m(\u001b[0m\u001b[0mout_labels\u001b[0m\u001b[1;33m,\u001b[0m \u001b[0mouts\u001b[0m\u001b[1;33m)\u001b[0m\u001b[1;33m:\u001b[0m\u001b[1;33m\u001b[0m\u001b[1;33m\u001b[0m\u001b[0m\n",
      "\u001b[1;32mC:\\ProgramData\\Anaconda3\\lib\\site-packages\\tensorflow\\python\\keras\\backend.py\u001b[0m in \u001b[0;36m__call__\u001b[1;34m(self, inputs)\u001b[0m\n\u001b[0;32m   3290\u001b[0m \u001b[1;33m\u001b[0m\u001b[0m\n\u001b[0;32m   3291\u001b[0m     fetched = self._callable_fn(*array_vals,\n\u001b[1;32m-> 3292\u001b[1;33m                                 run_metadata=self.run_metadata)\n\u001b[0m\u001b[0;32m   3293\u001b[0m     \u001b[0mself\u001b[0m\u001b[1;33m.\u001b[0m\u001b[0m_call_fetch_callbacks\u001b[0m\u001b[1;33m(\u001b[0m\u001b[0mfetched\u001b[0m\u001b[1;33m[\u001b[0m\u001b[1;33m-\u001b[0m\u001b[0mlen\u001b[0m\u001b[1;33m(\u001b[0m\u001b[0mself\u001b[0m\u001b[1;33m.\u001b[0m\u001b[0m_fetches\u001b[0m\u001b[1;33m)\u001b[0m\u001b[1;33m:\u001b[0m\u001b[1;33m]\u001b[0m\u001b[1;33m)\u001b[0m\u001b[1;33m\u001b[0m\u001b[1;33m\u001b[0m\u001b[0m\n\u001b[0;32m   3294\u001b[0m     output_structure = nest.pack_sequence_as(\n",
      "\u001b[1;32mC:\\ProgramData\\Anaconda3\\lib\\site-packages\\tensorflow\\python\\client\\session.py\u001b[0m in \u001b[0;36m__call__\u001b[1;34m(self, *args, **kwargs)\u001b[0m\n\u001b[0;32m   1456\u001b[0m         ret = tf_session.TF_SessionRunCallable(self._session._session,\n\u001b[0;32m   1457\u001b[0m                                                \u001b[0mself\u001b[0m\u001b[1;33m.\u001b[0m\u001b[0m_handle\u001b[0m\u001b[1;33m,\u001b[0m \u001b[0margs\u001b[0m\u001b[1;33m,\u001b[0m\u001b[1;33m\u001b[0m\u001b[1;33m\u001b[0m\u001b[0m\n\u001b[1;32m-> 1458\u001b[1;33m                                                run_metadata_ptr)\n\u001b[0m\u001b[0;32m   1459\u001b[0m         \u001b[1;32mif\u001b[0m \u001b[0mrun_metadata\u001b[0m\u001b[1;33m:\u001b[0m\u001b[1;33m\u001b[0m\u001b[1;33m\u001b[0m\u001b[0m\n\u001b[0;32m   1460\u001b[0m           \u001b[0mproto_data\u001b[0m \u001b[1;33m=\u001b[0m \u001b[0mtf_session\u001b[0m\u001b[1;33m.\u001b[0m\u001b[0mTF_GetBuffer\u001b[0m\u001b[1;33m(\u001b[0m\u001b[0mrun_metadata_ptr\u001b[0m\u001b[1;33m)\u001b[0m\u001b[1;33m\u001b[0m\u001b[1;33m\u001b[0m\u001b[0m\n",
      "\u001b[1;31mKeyboardInterrupt\u001b[0m: "
     ]
    }
   ],
   "source": [
    "import keras\n",
    "from keras.models import Sequential\n",
    "from keras.layers import Dense,Dropout, Activation, BatchNormalization\n",
    "import matplotlib.pyplot as plt\n",
    "model = Sequential()\n",
    "#keras.layers.BatchNormalization(axis=-1, momentum=0.99, epsilon=0.1, center=True, scale=True, beta_initializer='zeros', gamma_initializer='ones', moving_mean_initializer='zeros', moving_variance_initializer='ones', beta_regularizer=None, gamma_regularizer=None, beta_constraint=None, gamma_constraint=None)\n",
    "model.add(Dense(units =3000, kernel_initializer = 'uniform', activation = 'relu', input_dim =20))\n",
    "model.add(Dense(units =200, kernel_initializer = 'uniform', activation = 'selu'))\n",
    "model.compile(optimizer = 'Adamax', loss = 'mae', metrics = ['accuracy'])\n",
    "history =model.fit(X_train, y_train, validation_data=(X_test, y_test), batch_size=10000, epochs=500, shuffle=False)\n"
   ]
  },
  {
   "cell_type": "markdown",
   "metadata": {},
   "source": [
    "<h1 style=\"color:#006400\"> Weights Vector of NN1</h1>"
   ]
  },
  {
   "cell_type": "code",
   "execution_count": 40,
   "metadata": {},
   "outputs": [
    {
     "name": "stdout",
     "output_type": "stream",
     "text": [
      "9040\n"
     ]
    }
   ],
   "source": [
    "first_layer_weights =model.layers[0].get_weights()[0] \n",
    "first=first_layer_weights.flatten()\n",
    "first_layer_biases  = model.layers[0].get_weights()[1]\n",
    "first_layer=np.concatenate((first,first_layer_biases),axis=0)\n",
    "second_layer_weights = model.layers[1].get_weights()[0]\n",
    "second=second_layer_weights.flatten()\n",
    "second_layer_biases  = model.layers[1].get_weights()[1]\n",
    "second_layer=np.concatenate((second,second_layer_biases),axis=0)\n",
    "weights=np.concatenate((first_layer,second_layer),axis=0)\n",
    "print (len(weights))"
   ]
  },
  {
   "cell_type": "markdown",
   "metadata": {},
   "source": [
    "<h1 style=\"color:#006400\"> Make Predictions</h1>"
   ]
  },
  {
   "cell_type": "code",
   "execution_count": 66,
   "metadata": {},
   "outputs": [],
   "source": [
    "y_pred= model.predict(X_train)\n",
    "y_pred_test = model.predict(X_test)\n"
   ]
  },
  {
   "cell_type": "code",
   "execution_count": null,
   "metadata": {},
   "outputs": [],
   "source": [
    "\n"
   ]
  },
  {
   "cell_type": "code",
   "execution_count": 116,
   "metadata": {},
   "outputs": [
    {
     "data": {
      "image/png": "[encoded data removed]",
      "text/plain": [
       "<IPython.core.display.Image object>"
      ]
     },
     "execution_count": 116,
     "metadata": {},
     "output_type": "execute_result"
    }
   ],
   "source": [
    "from keras.utils import plot_model\n",
    "plot_model(model, to_file='model.png')"
   ]
  },
  {
   "cell_type": "markdown",
   "metadata": {},
   "source": [
    "<h1 style=\"color:#006400\"> Accuracy Representation </h1>"
   ]
  },
  {
   "cell_type": "code",
   "execution_count": 10,
   "metadata": {},
   "outputs": [
    {
     "data": {
      "image/png": "[encoded data removed]",
      "text/plain": [
       "<Figure size 432x288 with 1 Axes>"
      ]
     },
     "metadata": {
      "needs_background": "light"
     },
     "output_type": "display_data"
    }
   ],
   "source": [
    "plt.plot(history.history['accuracy'])\n",
    "plt.plot(history.history['val_accuracy'])\n",
    "plt.title('Model Accuracy')\n",
    "plt.grid(True,which=\"both\", linestyle='--')\n",
    "plt.ylabel('Accuracy') \n",
    "plt.xlabel('Epoch')\n",
    "plt.legend(['Train', 'Test'], loc='upper left')\n",
    "plt.show()"
   ]
  },
  {
   "cell_type": "markdown",
   "metadata": {},
   "source": [
    "<h1 style=\"color:#006400\"> Loss Representation</h1>"
   ]
  },
  {
   "cell_type": "code",
   "execution_count": 29,
   "metadata": {},
   "outputs": [
    {
     "data": {
      "image/png": "[encoded data removed]",
      "text/plain": [
       "<Figure size 432x288 with 1 Axes>"
      ]
     },
     "metadata": {
      "needs_background": "light"
     },
     "output_type": "display_data"
    }
   ],
   "source": [
    "\n",
    "plt.plot(history.history['loss'])\n",
    "plt.plot(history.history['val_loss'])\n",
    "plt.title('Model loss')\n",
    "plt.grid(True,which=\"both\", linestyle='--')\n",
    "plt.ylabel('Loss') \n",
    "plt.yscale('log')\n",
    "plt.xlabel('Epoch')\n",
    "plt.legend(['Train','Test'], loc='upper left')\n",
    "plt.show()"
   ]
  },
  {
   "cell_type": "code",
   "execution_count": null,
   "metadata": {},
   "outputs": [],
   "source": []
  },
  {
   "cell_type": "markdown",
   "metadata": {},
   "source": [
    "<h1 style=\"color:#006400\"> Mean-Squared-Error</h1>"
   ]
  },
  {
   "cell_type": "markdown",
   "metadata": {},
   "source": [
    "# Test Set "
   ]
  },
  {
   "cell_type": "code",
   "execution_count": 67,
   "metadata": {},
   "outputs": [
    {
     "name": "stdout",
     "output_type": "stream",
     "text": [
      "Mean Squred Error: -21.00731543997059\n"
     ]
    },
    {
     "data": {
      "image/png": "[encoded data removed]",
      "text/plain": [
       "<Figure size 432x288 with 1 Axes>"
      ]
     },
     "metadata": {
      "needs_background": "light"
     },
     "output_type": "display_data"
    }
   ],
   "source": [
    "NMSE=np.zeros([100,1])\n",
    "recievehh=np.zeros([100,10],dtype=complex)\n",
    "Y_gdr=y_pred_test[:,:100]\n",
    "Y_gdi=1j*y_pred_test[:,100:]\n",
    "Y_gd=Y_gdr+Y_gdi\n",
    "Shr=X_test[:,:10]\n",
    "Shi=1j*X_test[:,10:20]\n",
    "SSh=Shr+Shi\n",
    "for i in range(100):\n",
    "    val_IBO_m1dB=((1/np.sqrt(10**-0.1))**(2*p)-1)**(1/(2*p))*Vsat/(G)\n",
    "    coeff_IBO_m1dB=val_IBO_m1dB*np.sqrt((1/np.var(Y_gd[i])))*np.sqrt(10**(-IBO/10))\n",
    "    vin2=coeff_IBO_m1dB*Y_gd[i]\n",
    "    vout2=hpa_sspa_modif_rapp(vin2,Vsat,p,q,G,A,B)\n",
    "    Y_gd_amp = vout2/coeff_IBO_m1dB\n",
    "    recieveh=(H.dot(Y_gd_amp)).reshape((10))\n",
    "    recievehh[i]=recieveh\n",
    "    NMSE[i]=(np.mean(np.abs(SSh[i]-recieveh)**2)/np.mean(np.abs(SSh[i])**2))\n",
    "    NMSEdb=10*np.log10(np.mean(NMSE[i]))\n",
    "recievehhh=recievehh.flatten()\n",
    "realr=np.real(recievehhh)\n",
    "imagr=np.imag(recievehhh)\n",
    "plt.scatter(realr,imagr) \n",
    "\n",
    "print('Mean Squred Error:', NMSEdb)\n"
   ]
  },
  {
   "cell_type": "code",
   "execution_count": null,
   "metadata": {},
   "outputs": [],
   "source": []
  },
  {
   "cell_type": "code",
   "execution_count": null,
   "metadata": {},
   "outputs": [],
   "source": []
  },
  {
   "cell_type": "code",
   "execution_count": null,
   "metadata": {},
   "outputs": [],
   "source": []
  },
  {
   "cell_type": "code",
   "execution_count": null,
   "metadata": {},
   "outputs": [],
   "source": []
  }
 ],
 "metadata": {
  "kernelspec": {
   "display_name": "Python 3",
   "language": "python",
   "name": "python3"
  },
  "language_info": {
   "codemirror_mode": {
    "name": "ipython",
    "version": 3
   },
   "file_extension": ".py",
   "mimetype": "text/x-python",
   "name": "python",
   "nbconvert_exporter": "python",
   "pygments_lexer": "ipython3",
   "version": "3.7.3"
  }
 },
 "nbformat": 4,
 "nbformat_minor": 2
}
