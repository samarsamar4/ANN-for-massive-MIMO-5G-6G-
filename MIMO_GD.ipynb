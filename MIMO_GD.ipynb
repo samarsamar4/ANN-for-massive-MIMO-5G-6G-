{
 "cells": [
  {
   "cell_type": "markdown",
   "metadata": {},
   "source": [
    "<h1 style=\"color:#191970; font-size:38px\">MIMO-Gradient-Descent</h1>"
   ]
  },
  {
   "cell_type": "markdown",
   "metadata": {},
   "source": [
    "<h1 style=\"color:#006400\">Libraries</h1>"
   ]
  },
  {
   "cell_type": "code",
   "execution_count": 1,
   "metadata": {},
   "outputs": [],
   "source": [
    "import numpy as np\n",
    "from numpy.linalg import inv\n",
    "from commpy.modulation import QAMModem\n",
    "import matplotlib.pyplot as plt\n",
    "import decimal\n",
    "from decimal import getcontext\n",
    "getcontext().Emax = 600000000000"
   ]
  },
  {
   "cell_type": "markdown",
   "metadata": {},
   "source": [
    "<h1 style=\"color:#006400\">Functions</h1>"
   ]
  },
  {
   "cell_type": "code",
   "execution_count": 2,
   "metadata": {},
   "outputs": [
    {
     "name": "stdout",
     "output_type": "stream",
     "text": [
      "importing Jupyter notebook from Utils.ipynb\n"
     ]
    },
    {
     "name": "stderr",
     "output_type": "stream",
     "text": [
      "Using TensorFlow backend.\n"
     ]
    }
   ],
   "source": [
    "import import_ipynb\n",
    "from Utils import Basic_Nonlinear_Distortion_Model\n",
    "from Utils import hpa_sspa_modif_rapp\n",
    "from Utils import find_K0_sigma2_d"
   ]
  },
  {
   "cell_type": "markdown",
   "metadata": {},
   "source": [
    "<h1 style=\"color:#006400\">Variables</h1>"
   ]
  },
  {
   "cell_type": "code",
   "execution_count": 3,
   "metadata": {},
   "outputs": [],
   "source": [
    "IBO=3\n",
    "p=1.1\n",
    "q=4\n",
    "Vsat=1.9\n",
    "G=16\n",
    "A=-345\n",
    "B=0.17\n",
    "Mr=10\n",
    "Mt=100\n",
    "M=16\n",
    "N_bits=Mr*np.log2(M)\n",
    "SNRdb=decimal.Decimal(60000000000)\n",
    "Niter=50\n",
    "mu1=0.0017\n",
    "lamda=0.00071\n",
    "mu2=1\n",
    "eps=1e-2"
   ]
  },
  {
   "cell_type": "markdown",
   "metadata": {},
   "source": [
    "<h1 style=\"color:#006400\">Initialization</h1>"
   ]
  },
  {
   "cell_type": "code",
   "execution_count": 4,
   "metadata": {},
   "outputs": [],
   "source": [
    "N_bits=Mr*np.log2(M)\n",
    "MSE=np.zeros((Mt,50))\n",
    "x_gd_amp0=np.zeros((Mt,1))\n",
    "y_gd_r0=np.zeros([Mt,100])\n",
    "PAPR_GD=np.zeros((Mt,1))\n",
    "MUIgdi= np.zeros((Mt,1))\n",
    "SERgdi=np.zeros((Mt,1))\n",
    "BERgdi=np.zeros((Mt,1))\n",
    "x_gd=np.zeros([Mt,1])\n",
    "gdx1=np.zeros([Mt,Niter])\n",
    "d=np.zeros([Mt,1])"
   ]
  },
  {
   "cell_type": "markdown",
   "metadata": {},
   "source": [
    "<h1 style=\"color:#006400\">Basic_Nonlinear_Distortion_Model</h1>"
   ]
  },
  {
   "cell_type": "code",
   "execution_count": 5,
   "metadata": {},
   "outputs": [],
   "source": [
    "K0, sigma_2d=Basic_Nonlinear_Distortion_Model(A,B,q,p,G,Vsat,IBO)"
   ]
  },
  {
   "cell_type": "markdown",
   "metadata": {},
   "source": [
    "<h1 style=\"color:#006400\">16-QAM-Modulation/Demodulation</h1>"
   ]
  },
  {
   "cell_type": "code",
   "execution_count": 6,
   "metadata": {},
   "outputs": [],
   "source": [
    "for monte in range(100):\n",
    "    bits = np.random.randint(1, size=int(N_bits))\n",
    "    QAM16 = QAMModem(16)\n",
    "    z=QAM16.modulate(bits)\n",
    "    H=(1/np.sqrt(2*Mt))*(np.random.randn(Mr,Mt)+1j*np.random.randn(Mr,Mt))\n",
    "    zf=np.transpose(np.conj(H)).dot(inv(H.dot(np.transpose(np.conj(H)))))\n",
    "    x_zf=zf.dot(z)\n",
    "    recieve=H.dot(x_zf)\n",
    "    A=QAM16.demodulate(recieve, demod_type='hard', noise_var=0)"
   ]
  },
  {
   "cell_type": "markdown",
   "metadata": {},
   "source": [
    "<h1 style=\"color:#006400\">Gradient Descent Algorithm</h1>"
   ]
  },
  {
   "cell_type": "code",
   "execution_count": 7,
   "metadata": {},
   "outputs": [
    {
     "data": {
      "image/png": "[encoded data removed]",
      "text/plain": [
       "<Figure size 432x288 with 1 Axes>"
      ]
     },
     "metadata": {
      "needs_background": "light"
     },
     "output_type": "display_data"
    }
   ],
   "source": [
    "   for i in range(Niter):\n",
    "        Z = np.reshape(z, (1, 10)).T\n",
    "        gdx1=2*np.conj(K0*np.transpose(H)).dot(K0*H.dot(x_gd)+H.dot(d)-Z)\n",
    "        x_gd=x_gd-mu1*gdx1\n",
    "        ## HPA \n",
    "        val_IBO_m1dB=((1/np.sqrt(10**-0.1))**(2*p)-1)**(1/(2*p))*Vsat/(G)\n",
    "        coeff_IBO_m1dB=val_IBO_m1dB*np.sqrt((1/np.var(x_gd)))*np.sqrt(10**(-IBO/10))\n",
    "        vin2=coeff_IBO_m1dB*x_gd\n",
    "        vout2=hpa_sspa_modif_rapp(vin2,Vsat,p,q,G,A,B)\n",
    "        y_gd =np.array( vout2/(coeff_IBO_m1dB))\n",
    "        K0,sigma2_d=find_K0_sigma2_d (vin2,vout2)\n",
    "        d =vout2-K0*vin2\n",
    "        MSE=np.mean(np.abs(H.dot(y_gd)-Z)**2)/(np.mean(np.abs(Z)**2))\n",
    "        MMSE=np.mean( MSE)\n",
    "        NMSE=10*np.log10(MMSE)\n",
    "        plt.figure\n",
    "        plt.title('Mean-Squared-Error (IBO=1)')\n",
    "        plt.xlabel('Iteration')\n",
    "        plt.ylabel('NMSE')\n",
    "        plt.plot(i,NMSE,color='green', marker='.', linestyle='dashed')\n",
    "MSE=MSE"
   ]
  },
  {
   "cell_type": "markdown",
   "metadata": {},
   "source": [
    "<h1 style=\"color:#006400\">Hight Power Amplifier </h1>"
   ]
  },
  {
   "cell_type": "code",
   "execution_count": 8,
   "metadata": {},
   "outputs": [],
   "source": [
    "    PAPR_GD[monte]=np.max(np.abs(x_gd)**2)/np.mean(np.abs(x_gd)**2)\n",
    "    coeff_IBO_m1dB=val_IBO_m1dB*np.sqrt((1/np.var(x_gd)))*np.sqrt(10**(-IBO/10))\n",
    "    vin3=coeff_IBO_m1dB*x_gd\n",
    "    vout3=hpa_sspa_modif_rapp(vin3,Vsat,p,q,G,A,B)\n",
    "    x_gd_amp = vout3\n",
    "    x_gd_amp0 =x_gd_amp\n",
    "            "
   ]
  },
  {
   "cell_type": "markdown",
   "metadata": {},
   "source": [
    "<h1 style=\"color:#006400\">Channel </h1>"
   ]
  },
  {
   "cell_type": "code",
   "execution_count": 9,
   "metadata": {},
   "outputs": [],
   "source": [
    "    y_gd=H.dot(x_gd_amp)"
   ]
  },
  {
   "cell_type": "markdown",
   "metadata": {},
   "source": [
    "<h1 style=\"color:#006400\">Gaussian Noise</h1>"
   ]
  },
  {
   "cell_type": "code",
   "execution_count": 10,
   "metadata": {},
   "outputs": [],
   "source": [
    "    SNRlin=pow(10,SNRdb/10) \n",
    "    sigmas2=np.var(Z)\n",
    "    sigma2=(sigmas2/(2*float(SNRlin)))\n",
    "    sigmas2gd=np.var(x_gd_amp)\n",
    "    sigma2gd=(sigmas2gd/(2*float(SNRlin)))\n",
    "    wgd = np.sqrt(sigma2gd)*(np.random.randn(Mr,1)+1j*np.random.randn(Mr,1))\n",
    "    y_gd_r = y_gd + wgd\n",
    "    y_gd_r = y_gd_r/coeff_IBO_m1dB\n",
    "    y_gd_r0=y_gd_r"
   ]
  },
  {
   "cell_type": "markdown",
   "metadata": {},
   "source": [
    "<h1 style=\"color:#006400\">Simulation Results</h1>"
   ]
  },
  {
   "cell_type": "code",
   "execution_count": 11,
   "metadata": {},
   "outputs": [],
   "source": [
    "    MUIgdi[monte]=np.mean(np.abs(y_gd_r-Z)**2)/np.mean(np.abs(Z)**2)   \n",
    "    BERgdi[monte]=np.sum(A!=bits)/(Mr*np.log2(M))\n",
    "    SERgdi[monte]=np.log2(M)*BERgdi[monte]  "
   ]
  },
  {
   "cell_type": "markdown",
   "metadata": {},
   "source": [
    "### 1. Peak-to-Average Power Ratio"
   ]
  },
  {
   "cell_type": "code",
   "execution_count": 12,
   "metadata": {},
   "outputs": [
    {
     "name": "stdout",
     "output_type": "stream",
     "text": [
      "0.049492922143302955\n"
     ]
    }
   ],
   "source": [
    "print(np.mean(PAPR_GD)) "
   ]
  },
  {
   "cell_type": "markdown",
   "metadata": {},
   "source": [
    "### 2. Multi-User Interference"
   ]
  },
  {
   "cell_type": "code",
   "execution_count": 13,
   "metadata": {},
   "outputs": [
    {
     "name": "stdout",
     "output_type": "stream",
     "text": [
      "-59.88175939465297\n"
     ]
    }
   ],
   "source": [
    "MUIgd = 10*np.log10(np.mean(MUIgdi))\n",
    "print(MUIgd)"
   ]
  },
  {
   "cell_type": "markdown",
   "metadata": {},
   "source": [
    "### 3. Squared Bit Error Rate"
   ]
  },
  {
   "cell_type": "code",
   "execution_count": 14,
   "metadata": {},
   "outputs": [
    {
     "name": "stdout",
     "output_type": "stream",
     "text": [
      "0.0\n"
     ]
    }
   ],
   "source": [
    "SERgd =np.mean(SERgdi)\n",
    "print(SERgd)"
   ]
  },
  {
   "cell_type": "markdown",
   "metadata": {},
   "source": [
    "### 4. Bit Error Rate"
   ]
  },
  {
   "cell_type": "code",
   "execution_count": 15,
   "metadata": {},
   "outputs": [
    {
     "name": "stdout",
     "output_type": "stream",
     "text": [
      "0.0\n"
     ]
    }
   ],
   "source": [
    "BERgd = np.mean(BERgdi)\n",
    "print(BERgd)"
   ]
  },
  {
   "cell_type": "code",
   "execution_count": null,
   "metadata": {},
   "outputs": [],
   "source": []
  }
 ],
 "metadata": {
  "kernelspec": {
   "display_name": "Python 3",
   "language": "python",
   "name": "python3"
  },
  "language_info": {
   "codemirror_mode": {
    "name": "ipython",
    "version": 3
   },
   "file_extension": ".py",
   "mimetype": "text/x-python",
   "name": "python",
   "nbconvert_exporter": "python",
   "pygments_lexer": "ipython3",
   "version": "3.6.9"
  }
 },
 "nbformat": 4,
 "nbformat_minor": 2
}
