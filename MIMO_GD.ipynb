{
 "cells": [
  {
   "cell_type": "markdown",
   "metadata": {},
   "source": [
    "<h1 style=\"color:#191970; font-size:38px\">MIMO-Gradient-Descent</h1>"
   ]
  },
  {
   "cell_type": "markdown",
   "metadata": {},
   "source": [
    "<h1 style=\"color:#006400\">Libraries</h1>"
   ]
  },
  {
   "cell_type": "code",
   "execution_count": 1,
   "metadata": {},
   "outputs": [],
   "source": [
    "import numpy as np\n",
    "from numpy.linalg import inv\n",
    "from commpy.modulation import QAMModem\n",
    "import matplotlib.pyplot as plt\n",
    "import decimal\n",
    "from decimal import getcontext\n",
    "\n",
    "getcontext().Emax = 600000000000"
   ]
  },
  {
   "cell_type": "markdown",
   "metadata": {},
   "source": [
    "<h1 style=\"color:#006400\">Functions</h1>"
   ]
  },
  {
   "cell_type": "code",
   "execution_count": 2,
   "metadata": {},
   "outputs": [
    {
     "name": "stdout",
     "output_type": "stream",
     "text": [
      "importing Jupyter notebook from Utils.ipynb\n"
     ]
    },
    {
     "name": "stderr",
     "output_type": "stream",
     "text": [
      "Using TensorFlow backend.\n"
     ]
    }
   ],
   "source": [
    "import import_ipynb\n",
    "from Utils import Basic_Nonlinear_Distortion_Model\n",
    "from Utils import hpa_sspa_modif_rapp\n",
    "from Utils import find_K0_sigma2_d"
   ]
  },
  {
   "cell_type": "markdown",
   "metadata": {},
   "source": [
    "<h1 style=\"color:#006400\">Variables</h1>"
   ]
  },
  {
   "cell_type": "code",
   "execution_count": 3,
   "metadata": {},
   "outputs": [],
   "source": [
    "IBO = 3\n",
    "p = 1.1\n",
    "q = 4\n",
    "Vsat = 1.9\n",
    "G = 16\n",
    "A = -345\n",
    "B = 0.17\n",
    "Mr = 10\n",
    "Mt = 100\n",
    "M = 16\n",
    "N_bits = Mr * np.log2(M)\n",
    "SNRdb = decimal.Decimal(60000000000)\n",
    "Niter = 50\n",
    "mu1 = 0.0017\n",
    "lamda = 0.00071\n",
    "mu2 = 1\n",
    "eps = 1e-2"
   ]
  },
  {
   "cell_type": "markdown",
   "metadata": {},
   "source": [
    "<h1 style=\"color:#006400\">Initialization</h1>"
   ]
  },
  {
   "cell_type": "code",
   "execution_count": 4,
   "metadata": {},
   "outputs": [],
   "source": [
    "N_bits = Mr * np.log2(M)\n",
    "MSE = np.zeros((Mt, 50))\n",
    "x_gd_amp0 = np.zeros((Mt, 1))\n",
    "y_gd_r0 = np.zeros([Mt, 100])\n",
    "PAPR_GD = np.zeros((Mt, 1))\n",
    "MUIgdi = np.zeros((Mt, 1))\n",
    "SERgdi = np.zeros((Mt, 1))\n",
    "BERgdi = np.zeros((Mt, 1))\n",
    "x_gd = np.zeros([Mt, 1])\n",
    "gdx1 = np.zeros([Mt, Niter])\n",
    "d = np.zeros([Mt, 1])"
   ]
  },
  {
   "cell_type": "markdown",
   "metadata": {},
   "source": [
    "<h1 style=\"color:#006400\">Basic_Nonlinear_Distortion_Model</h1>"
   ]
  },
  {
   "cell_type": "code",
   "execution_count": 5,
   "metadata": {},
   "outputs": [],
   "source": [
    "K0, sigma_2d=Basic_Nonlinear_Distortion_Model(A,B,q,p,G,Vsat,IBO)"
   ]
  },
  {
   "cell_type": "markdown",
   "metadata": {},
   "source": [
    "<h1 style=\"color:#006400\">16-QAM-Modulation/Demodulation</h1>"
   ]
  },
  {
   "cell_type": "code",
   "execution_count": 6,
   "metadata": {},
   "outputs": [],
   "source": [
    "\"\"\"Generate a random bit stream equivalent to the transmissed signal\n",
    "   Modulate this bit stream (16-QAM type modulation) using the QAMModem () function of the CommPy library\n",
    "   Generate the matrix of the channel H ∈ ℂMr * Mt whose inputs are complex random Gaussian variables\n",
    "   Precode transmitted signal Z using the conventional zero-forcing (ZF) precoding scheme , where the corresponding precoder is W = H^T(HH^T)^-1 \n",
    "   Then demodulate the recieved signal through the channel H  \"\"\"\n",
    "for monte in range(100):\n",
    "    bits = np.random.randint(1, size=int(N_bits))\n",
    "    QAM16 = QAMModem(16)\n",
    "    z = QAM16.modulate(bits)\n",
    "    H = (1 / np.sqrt(2 * Mt)) * (np.random.randn(Mr, Mt) + 1j * np.random.randn(Mr, Mt))\n",
    "    zf = np.transpose(np.conj(H)).dot(inv(H.dot(np.transpose(np.conj(H)))))\n",
    "    x_zf = zf.dot(z)\n",
    "    recieve = H.dot(x_zf)\n",
    "    A = QAM16.demodulate(recieve, demod_type=\"hard\", noise_var=0)"
   ]
  },
  {
   "cell_type": "markdown",
   "metadata": {},
   "source": [
    "<h1 style=\"color:#006400\">Gradient Descent Algorithm</h1>"
   ]
  },
  {
   "cell_type": "code",
   "execution_count": 7,
   "metadata": {},
   "outputs": [
    {
     "data": {
      "image/png": "[encoded data removed]",
      "text/plain": [
       "<Figure size 432x288 with 1 Axes>"
      ]
     },
     "metadata": {
      "needs_background": "light"
     },
     "output_type": "display_data"
    }
   ],
   "source": [
    "    \"\"\" In order to minimize the cost function J(X)= ||H*x_gd + H*d - Z||^2, We have calculated the gradient of X (gdx1) which is the derivative J (X) with respect to X.\n",
    "    The precoded vector (x_gd) is adjusted as x_gd = x_gd - mu1 * gdx1  and the vector of distortion is estimated through the feedback path.\n",
    "    Update IBO Coefficients where Input Back-Off in a power amplifier, is a measure of how far you must reduce the input power in order to receive the desired output linearity and power.\n",
    "    Determine the distortion vector (d) and the PA Gain complex (K0) using hpa_sspa_modif_rapp() and find_K0_sigma2_d() functions.\n",
    "    Where Vin and Vout are the input / output of Power amplifier PA.\n",
    "    Y_gd is the amplified and normalized vector passed through the channel H.\n",
    "    Calculate the mean squared error of  H*y_gd and transmitted symbols Z.\n",
    "    \"\"\"\n",
    "    for i in range(Niter):\n",
    "        Z = np.reshape(z, (1, 10)).T\n",
    "        gdx1 = 2 * np.conj(K0 * np.transpose(H)).dot(K0 * H.dot(x_gd) + H.dot(d) - Z)\n",
    "        x_gd = x_gd - mu1 * gdx1\n",
    "        ## HPA\n",
    "        val_IBO_m1dB = (\n",
    "            ((1 / np.sqrt(10 ** -0.1)) ** (2 * p) - 1) ** (1 / (2 * p)) * Vsat / (G)\n",
    "        )\n",
    "        coeff_IBO_m1dB = (\n",
    "            val_IBO_m1dB * np.sqrt((1 / np.var(x_gd))) * np.sqrt(10 ** (-IBO / 10))\n",
    "        )\n",
    "        vin2 = coeff_IBO_m1dB * x_gd\n",
    "        vout2 = hpa_sspa_modif_rapp(vin2, Vsat, p, q, G, A, B)\n",
    "        y_gd = np.array(vout2 / (coeff_IBO_m1dB))\n",
    "        K0, sigma2_d = find_K0_sigma2_d(vin2, vout2)\n",
    "        d = vout2 - K0 * vin2\n",
    "        MSE = np.mean(np.abs(H.dot(y_gd) - Z) ** 2) / (np.mean(np.abs(Z) ** 2))\n",
    "        MMSE = np.mean(MSE)\n",
    "        NMSE = 10 * np.log10(MMSE)\n",
    "        plt.figure\n",
    "        plt.title(\"Mean-Squared-Error (IBO=3)\")\n",
    "        plt.xlabel(\"Iteration\")\n",
    "        plt.ylabel(\"NMSE\")\n",
    "        plt.plot(i, NMSE, color=\"green\", marker=\".\", linestyle=\"dashed\")\n",
    "    MSE = MSE"
   ]
  },
  {
   "cell_type": "markdown",
   "metadata": {},
   "source": [
    "<h1 style=\"color:#006400\">Hight Power Amplifier </h1>"
   ]
  },
  {
   "cell_type": "code",
   "execution_count": 8,
   "metadata": {},
   "outputs": [],
   "source": [
    "    \"\"\" Caluculate the PAPR which indicates a ratio between peak power and average power\n",
    "        Update Input Back-Off coefficients to amplify the precoded vector X_gd wich is obtained by the gradient descent algorithm \n",
    "        using hpa_sspa_modif_rapp function that provides the power amplifier output (Vout3)\n",
    "    \"\"\"\n",
    "    PAPR_GD[monte]=np.max(np.abs(x_gd)**2)/np.mean(np.abs(x_gd)**2)\n",
    "    coeff_IBO_m1dB=val_IBO_m1dB*np.sqrt((1/np.var(x_gd)))*np.sqrt(10**(-IBO/10))\n",
    "    vin3=coeff_IBO_m1dB*x_gd\n",
    "    vout3=hpa_sspa_modif_rapp(vin3,Vsat,p,q,G,A,B)\n",
    "    x_gd_amp = vout3\n",
    "            "
   ]
  },
  {
   "cell_type": "markdown",
   "metadata": {},
   "source": [
    "<h1 style=\"color:#006400\">Channel </h1>"
   ]
  },
  {
   "cell_type": "code",
   "execution_count": 9,
   "metadata": {},
   "outputs": [],
   "source": [
    "\"\"\" Multiply the amplified signal by the channel matrix\"\"\"\n",
    "y_gd = H.dot(x_gd_amp)"
   ]
  },
  {
   "cell_type": "markdown",
   "metadata": {},
   "source": [
    "<h1 style=\"color:#006400\">Gaussian Noise</h1>"
   ]
  },
  {
   "cell_type": "code",
   "execution_count": 10,
   "metadata": {},
   "outputs": [],
   "source": [
    "    \"\"\" wgd ∈ C(Mr×1) denotes the receiver noise whose entries are i.i.d circularly-symmetric complex Gaussian distribution \n",
    "    with zero-mean and variance N0/2\n",
    "    y_gd_r is the recieved signal passed through Gaussian channel\n",
    "    y_gd_r0 is the normalized recieved signal \n",
    "    \"\"\"\n",
    "    SNRlin=pow(10,SNRdb/10) \n",
    "    sigmas2=np.var(Z)\n",
    "    sigma2=(sigmas2/(2*float(SNRlin)))\n",
    "    sigmas2gd=np.var(x_gd_amp)\n",
    "    sigma2gd=(sigmas2gd/(2*float(SNRlin)))\n",
    "    wgd = np.sqrt(sigma2gd)*(np.random.randn(Mr,1)+1j*np.random.randn(Mr,1))\n",
    "    y_gd_r = y_gd + wgd\n",
    "    y_gd_r = y_gd_r/coeff_IBO_m1dB\n",
    "    y_gd_r0=y_gd_r"
   ]
  },
  {
   "cell_type": "markdown",
   "metadata": {},
   "source": [
    "<h1 style=\"color:#006400\">Simulation Results</h1>"
   ]
  },
  {
   "cell_type": "code",
   "execution_count": 11,
   "metadata": {},
   "outputs": [],
   "source": [
    "    MUIgdi[monte]=np.mean(np.abs(y_gd_r-Z)**2)/np.mean(np.abs(Z)**2)   \n",
    "    BERgdi[monte]=np.sum(A!=bits)/(Mr*np.log2(M))\n",
    "    SERgdi[monte]=np.log2(M)*BERgdi[monte]  "
   ]
  },
  {
   "cell_type": "markdown",
   "metadata": {},
   "source": [
    "### 1. Peak-to-Average Power Ratio"
   ]
  },
  {
   "cell_type": "code",
   "execution_count": 12,
   "metadata": {},
   "outputs": [
    {
     "name": "stdout",
     "output_type": "stream",
     "text": [
      "0.048853165131820114\n"
     ]
    }
   ],
   "source": [
    "print(np.mean(PAPR_GD))"
   ]
  },
  {
   "cell_type": "markdown",
   "metadata": {},
   "source": [
    "### 2. Multi-User Interference"
   ]
  },
  {
   "cell_type": "code",
   "execution_count": 13,
   "metadata": {},
   "outputs": [
    {
     "name": "stdout",
     "output_type": "stream",
     "text": [
      "-59.363986554849866\n"
     ]
    }
   ],
   "source": [
    "MUIgd_db = 10 * np.log10(np.mean(MUIgdi))\n",
    "print(MUIgd_db)"
   ]
  },
  {
   "cell_type": "markdown",
   "metadata": {},
   "source": [
    "### 3. Squared Bit Error Rate"
   ]
  },
  {
   "cell_type": "code",
   "execution_count": 14,
   "metadata": {},
   "outputs": [
    {
     "name": "stdout",
     "output_type": "stream",
     "text": [
      "0.0\n"
     ]
    }
   ],
   "source": [
    "SERgd = np.mean(SERgdi)\n",
    "print(SERgd)"
   ]
  },
  {
   "cell_type": "markdown",
   "metadata": {},
   "source": [
    "### 4. Bit Error Rate"
   ]
  },
  {
   "cell_type": "code",
   "execution_count": 15,
   "metadata": {},
   "outputs": [
    {
     "name": "stdout",
     "output_type": "stream",
     "text": [
      "0.0\n"
     ]
    }
   ],
   "source": [
    "BERgd = np.mean(BERgdi)\n",
    "print(BERgd)"
   ]
  },
  {
   "cell_type": "code",
   "execution_count": null,
   "metadata": {},
   "outputs": [],
   "source": []
  }
 ],
 "metadata": {
  "kernelspec": {
   "display_name": "Python 3",
   "language": "python",
   "name": "python3"
  },
  "language_info": {
   "codemirror_mode": {
    "name": "ipython",
    "version": 3
   },
   "file_extension": ".py",
   "mimetype": "text/x-python",
   "name": "python",
   "nbconvert_exporter": "python",
   "pygments_lexer": "ipython3",
   "version": "3.6.9"
  }
 },
 "nbformat": 4,
 "nbformat_minor": 2
}
