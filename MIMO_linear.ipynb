{
 "cells": [
  {
   "cell_type": "markdown",
   "metadata": {},
   "source": [
    "<h1 style=\"color:#191970; font-size:38px\">MIMO-Linear</h1>"
   ]
  },
  {
   "cell_type": "markdown",
   "metadata": {},
   "source": [
    "<h1 style=\"color:#006400\">Libraries</h1>"
   ]
  },
  {
   "cell_type": "code",
   "execution_count": 25,
   "metadata": {},
   "outputs": [],
   "source": [
    "import numpy as np\n",
    "from commpy.modulation import QAMModem\n",
    "from numpy.linalg import inv"
   ]
  },
  {
   "cell_type": "markdown",
   "metadata": {},
   "source": [
    "<h1 style=\"color:#006400\">Variables</h1>"
   ]
  },
  {
   "cell_type": "code",
   "execution_count": 26,
   "metadata": {},
   "outputs": [],
   "source": [
    "Mr = 10\n",
    "Mt = 100\n",
    "M = 16\n",
    "N_bits = Mr * np.log2(M)"
   ]
  },
  {
   "cell_type": "markdown",
   "metadata": {},
   "source": [
    "<h1 style=\"color:#006400\">Initialization</h1>"
   ]
  },
  {
   "cell_type": "code",
   "execution_count": 27,
   "metadata": {},
   "outputs": [],
   "source": [
    "NMSE=[]"
   ]
  },
  {
   "cell_type": "markdown",
   "metadata": {},
   "source": [
    "### Generate Random bits "
   ]
  },
  {
   "cell_type": "code",
   "execution_count": 28,
   "metadata": {},
   "outputs": [],
   "source": [
    "for i in range(2, 100):\n",
    "    bits = np.random.randint(2, size=int(N_bits))"
   ]
  },
  {
   "cell_type": "markdown",
   "metadata": {},
   "source": [
    "### 16-QAM Modulation"
   ]
  },
  {
   "cell_type": "code",
   "execution_count": 29,
   "metadata": {},
   "outputs": [
    {
     "name": "stdout",
     "output_type": "stream",
     "text": [
      "[ 3.-3.j -3.-1.j -3.-1.j  1.-1.j -3.-3.j  3.-1.j -3.-1.j -1.-3.j  1.+3.j\n",
      "  3.+1.j]\n"
     ]
    }
   ],
   "source": [
    "    QAM16 = QAMModem(16)\n",
    "    Z=QAM16.modulate(bits)\n",
    "    print(Z)"
   ]
  },
  {
   "cell_type": "markdown",
   "metadata": {},
   "source": [
    "### Generate Channel Matrix"
   ]
  },
  {
   "cell_type": "code",
   "execution_count": 30,
   "metadata": {},
   "outputs": [],
   "source": [
    "H = (1 / np.sqrt(2 * Mt)) * (np.random.randn(Mr, Mt) + 1j * np.random.randn(Mr, Mt))"
   ]
  },
  {
   "cell_type": "markdown",
   "metadata": {},
   "source": [
    "### Demodulation "
   ]
  },
  {
   "cell_type": "code",
   "execution_count": 31,
   "metadata": {},
   "outputs": [
    {
     "name": "stdout",
     "output_type": "stream",
     "text": [
      "[1 1 0 0 0 0 0 1 0 0 0 1 1 0 0 1 0 0 0 0 1 1 0 1 0 0 0 1 0 1 0 0 1 0 1 1 1\n",
      " 1 1 0]\n",
      "[1 1 0 0 0 0 0 1 0 0 0 1 1 0 0 1 0 0 0 0 1 1 0 1 0 0 0 1 0 1 0 0 1 0 1 1 1\n",
      " 1 1 0]\n",
      "[ 3.-3.j -3.-1.j -3.-1.j  1.-1.j -3.-3.j  3.-1.j -3.-1.j -1.-3.j  1.+3.j\n",
      "  3.+1.j]\n"
     ]
    }
   ],
   "source": [
    "    zf=np.transpose(np.conj(H)).dot(inv(H.dot(np.transpose(np.conj(H)))))\n",
    "    x_zf=zf.dot(Z)\n",
    "    recieve=H.dot(x_zf)\n",
    "    A=QAM16.demodulate(recieve, demod_type='hard', noise_var=0) \n",
    "    print(bits)\n",
    "    print(A)\n",
    "    print(Z.T)"
   ]
  },
  {
   "cell_type": "markdown",
   "metadata": {},
   "source": [
    "<h1 style=\"color:#006400\">Mean Squared Error </h1>"
   ]
  },
  {
   "cell_type": "code",
   "execution_count": 32,
   "metadata": {},
   "outputs": [
    {
     "name": "stdout",
     "output_type": "stream",
     "text": [
      "-310.47180749829545\n"
     ]
    }
   ],
   "source": [
    "NMSE.append(np.mean(np.abs(Z - recieve) ** 2) / np.mean(np.abs(Z) ** 2))\n",
    "NMSEdb = 10 * np.log10(np.mean(NMSE))\n",
    "print(NMSEdb)"
   ]
  }
 ],
 "metadata": {
  "kernelspec": {
   "display_name": "Python 3",
   "language": "python",
   "name": "python3"
  },
  "language_info": {
   "codemirror_mode": {
    "name": "ipython",
    "version": 3
   },
   "file_extension": ".py",
   "mimetype": "text/x-python",
   "name": "python",
   "nbconvert_exporter": "python",
   "pygments_lexer": "ipython3",
   "version": "3.6.9"
  }
 },
 "nbformat": 4,
 "nbformat_minor": 2
}
