{
 "cells": [
  {
   "cell_type": "markdown",
   "metadata": {},
   "source": [
    "## Functions\n"
   ]
  },
  {
   "cell_type": "markdown",
   "metadata": {},
   "source": [
    "#### Libraries"
   ]
  },
  {
   "cell_type": "code",
   "execution_count": 1,
   "metadata": {},
   "outputs": [
    {
     "name": "stderr",
     "output_type": "stream",
     "text": [
      "Using TensorFlow backend.\n"
     ]
    }
   ],
   "source": [
    "import numpy as np\n",
    "from numpy import *\n",
    "from numpy.linalg import inv\n",
    "from commpy.modulation import QAMModem\n",
    "import keras.backend as K"
   ]
  },
  {
   "cell_type": "markdown",
   "metadata": {},
   "source": [
    "#### Functions"
   ]
  },
  {
   "cell_type": "code",
   "execution_count": 2,
   "metadata": {},
   "outputs": [],
   "source": [
    "\n",
    "def Basic_Nonlinear_Distortion_Model(A,B,q,p,G,Vsat,IBO):\n",
    "    val_IBO_m1dB=((1/sqrt(10**-0.1))**(2*p)-1)**(1/(2*p))*Vsat/(G)\n",
    "    coeff_IBO_m1dB=val_IBO_m1dB*sqrt(10**(-IBO/10))\n",
    "    s=random.randn(1,1000000)\n",
    "    vin1 = sqrt(1/2)*(s+1j*s)\n",
    "    vin01 = coeff_IBO_m1dB*vin1\n",
    "    a0=absolute(vin01)\n",
    "    a02=a0**2  \n",
    "    theta=angle(vin01)\n",
    "    Am=(G*a0)/((1+(G*a0/Vsat)**(2*p))**(1/(2*p)))\n",
    "    Bm=(A*(a0**q))/((1+(a0/B)**(q)))\n",
    "    Sm=Am*exp(1j*(Bm))\n",
    "    vout1=Am*exp(1j*(theta+Bm))\n",
    "    K0 = mean(vout1*conj(vin01))/mean(absolute(vin01)**2)\n",
    "    sigma2_d = var(vout1 - K0*vin01) \n",
    "    return(K0,sigma2_d)\n",
    "Basic_Nonlinear_Distortion_Model.__doc__=\"\"\"Cest une fonction qui répresente le modèle de distorsion non linéaire PA de base.\n",
    "       Entré: Un train binaire aléatoire\n",
    "       Sortie:\n",
    "        -K0: Gain complexede PA\n",
    "        -sigma2_d: Vecteur distortion de PA\n",
    "\"\"\""
   ]
  },
  {
   "cell_type": "code",
   "execution_count": 3,
   "metadata": {},
   "outputs": [],
   "source": [
    "def hpa_sspa_modif_rapp(vin, Vsat, p, q, G, A, B):\n",
    "    A = -345\n",
    "    a0 = abs(vin)\n",
    "    theta = np.angle(vin)\n",
    "    Am = (G * a0) / ((1 + (G * a0 / Vsat) ** (2 * p)) ** (1 / (2 * p)))\n",
    "    Bm = (A * (a0 ** q)) / ((1 + (a0 / B) ** (q)))\n",
    "    vout = Am * np.exp(1j * (theta + Bm))\n",
    "    return vout\n",
    "\n",
    "\n",
    "hpa_sspa_modif_rapp.__doc__ = \"\"\" cette fonction permet de calculer la sortie de l'amplificateur de puissance PA.\n",
    "        Le comportement non linéaire de PA peut être décrit en utilisant les caractéristiques de compression AM-AM et de conversion AM-PM\n",
    "        Entré:\n",
    "        -vin: Signal à amplifier \n",
    "        -Vsat: le niveau de saturation\n",
    "        -p: le facteur de lissage\n",
    "        -G: le petit gain de signal\n",
    "        -q, A et B: paramètres d'ajustement\n",
    "        Sortie: Signal amplifié\n",
    "        \"\"\""
   ]
  },
  {
   "cell_type": "code",
   "execution_count": 4,
   "metadata": {},
   "outputs": [],
   "source": [
    "def find_K0_sigma2_d(vin, vout):\n",
    "    K0 = np.mean(vout * np.conj(vin)) / np.mean(np.absolute(vin) ** 2)\n",
    "    sigma2_d = np.var(vout - K0 * vin)\n",
    "    return (K0, sigma2_d)\n",
    "\n",
    "\n",
    "find_K0_sigma2_d.__doc__ = \"\"\"Cette fonction permet de trouver les parametres de distortion de non linearité de PA.\n",
    "        D'apres la théorème de Bussgang, on peut décomposer le signal non linéaire à la sortie PA en une fonction linéaire de l'entrée PA et un terme de distorsion non corrélé.\n",
    "        Le signal amplifié sera sous cette forme ymt = qmtxmt + dm\n",
    "        Entré: \n",
    "        -vin: Signal à amplifier \n",
    "        -vout: Signal amplifié\n",
    "        Sortie:\n",
    "        -K0: Gain complexede PA\n",
    "        -sigma2_d: Vecteur distortion de PA\n",
    "        \"\"\""
   ]
  },
  {
   "cell_type": "code",
   "execution_count": 5,
   "metadata": {},
   "outputs": [],
   "source": [
    "def log10(x):\n",
    "    numerator = tf.math.log(x)\n",
    "    denominator = tf.math.log(tf.constant(10, dtype=numerator.dtype))\n",
    "    return numerator / denominator\n",
    "\n",
    "\n",
    "log10.__doc__ = \"\"\"Cette fonction permet de calculer le log10 d'un tenseur\n",
    "       Entré: un tenseur\n",
    "       Sortie: un tenseur\n",
    "       \"\"\""
   ]
  },
  {
   "cell_type": "code",
   "execution_count": 6,
   "metadata": {},
   "outputs": [],
   "source": [
    "def NMSE(X_train, y_pred):\n",
    "    NMS = K.zeros(shape=(1000))\n",
    "    NMSEdb = K.zeros(shape=(1000))\n",
    "    # recieveh=K.zeros([1000,10])\n",
    "    y_predt = tf.convert_to_tensor(y_pred, dtype=tf.float32)\n",
    "    Y_gdr = y_predt[:1000, :100]\n",
    "    Y_gdi = y_predt[:1000, 100:]\n",
    "    Y_gd = tf.complex(Y_gdr, Y_gdi)\n",
    "    X_testt = tf.convert_to_tensor(X_train, dtype=tf.float32)\n",
    "    Shr = X_testt[:1000, :10]\n",
    "    Shi = X_testt[:1000, 10:20]\n",
    "    SSh = tf.complex(Shr, Shi)\n",
    "    for i in range(1000):\n",
    "        val_IBO_m1dB = (\n",
    "            ((1 / np.sqrt(10 ** -0.1)) ** (2 * p) - 1) ** (1 / (2 * p)) * Vsat / (G)\n",
    "        )\n",
    "        coeff_IBO_m1dB = (\n",
    "            val_IBO_m1dB\n",
    "            * tf.math.sqrt((1 / K.var(Y_gd[i])))\n",
    "            * np.sqrt(10 ** (-IBO / 10))\n",
    "        )\n",
    "        vin2 = coeff_IBO_m1dB * Y_gd[i]\n",
    "        A = -345\n",
    "        a0 = K.abs(vin2)\n",
    "        theta = tf.math.angle(vin2)\n",
    "        Am = (G * a0) / ((1 + (G * a0 / Vsat) ** (2 * p)) ** (1 / (2 * p)))\n",
    "        Bm = (A * (a0 ** q)) / ((1 + (a0 / B) ** (q)))\n",
    "        vout2 = tf.complex(Am, 0.0) * tf.math.exp(tf.complex(0.0, theta + Bm))\n",
    "        Y_gd_amp = vout2 / coeff_IBO_m1dB\n",
    "        Y_gd_amp0 = K.reshape(Y_gd_amp, (100, 1))\n",
    "        HH = K.constant(H, dtype=tf.complex64)\n",
    "        recieveh = K.dot(HH, (Y_gd_amp0))\n",
    "        recievehh = K.reshape(recieveh, (1, 10))\n",
    "        NMS = K.mean(K.abs(tf.math.subtract(recievehh, SSh[i]) ** 2)) / K.mean(\n",
    "            K.abs(SSh[i]) ** 2\n",
    "        )\n",
    "        NMSEdb = 10 * log10(K.mean(NMS))\n",
    "    return NMSEdb\n",
    "\n",
    "\n",
    "NMSE.__doc__ = \"\"\"Cette fonction permet de calculer l'erreur quadratique moyenne entre les symboles prévus S et les symboles amplifiés puis passés à travers le canal.\n",
    "       Cette fonction répresente une metrique personnalisée compilée par la fonction compile() de la bibliothèque Keras.\n",
    "       Entré:\n",
    "       -Y_true: Un tenseur qui contient y_train\n",
    "       -Y_Pred: Un tenseur qui contient y_pred\n",
    "       Sortie: Un tenseur qui contient l'erreur quadratique moyenne en db.\n",
    "       \"\"\""
   ]
  },
  {
   "cell_type": "code",
   "execution_count": 7,
   "metadata": {},
   "outputs": [],
   "source": [
    "def root_mean_squared_error(y_true, y_pred):\n",
    "    return K.sqrt(K.mean(K.square(y_pred - y_true), axis=-1))\n",
    "root_mean_squared_error.__doc__=\"\"\"\n",
    "            Cette fonction permet de calculer la racine carrée de la moyenne des erreurs au carré.\n",
    "            C'est la métrique la plus utilisée pour les tâches de régression.\n",
    "            Il est préférable dans certains cas, car les erreurs sont d'abord quadrillées avant la moyenne, ce qui pose une pénalité élevée sur les grandes erreurs.\n",
    "            Cela implique que RMSE est utile lorsque des erreurs importantes ne sont pas souhaitées.\n",
    "            Entré:\n",
    "            -Y_true: Un tenseur qui contient y_train\n",
    "            -Y_Pred: Un tenseur qui contient y_pred\n",
    "            Sortie: Un tenseur qui contient l'erreur quadratique moyenne.\n",
    "             \"\"\""
   ]
  }
 ],
 "metadata": {
  "kernelspec": {
   "display_name": "Python 3",
   "language": "python",
   "name": "python3"
  },
  "language_info": {
   "codemirror_mode": {
    "name": "ipython",
    "version": 3
   },
   "file_extension": ".py",
   "mimetype": "text/x-python",
   "name": "python",
   "nbconvert_exporter": "python",
   "pygments_lexer": "ipython3",
   "version": "3.6.9"
  }
 },
 "nbformat": 4,
 "nbformat_minor": 2
}
