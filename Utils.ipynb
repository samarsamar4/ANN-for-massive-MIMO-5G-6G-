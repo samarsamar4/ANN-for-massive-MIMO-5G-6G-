{
 "cells": [
  {
   "cell_type": "markdown",
   "metadata": {},
   "source": [
    "## Functions\n"
   ]
  },
  {
   "cell_type": "markdown",
   "metadata": {},
   "source": [
    "#### Libraries"
   ]
  },
  {
   "cell_type": "code",
   "execution_count": 1,
   "metadata": {},
   "outputs": [],
   "source": [
    "import numpy as np\n",
    "from numpy import *\n",
    "from numpy.linalg import inv\n",
    "from commpy.modulation import QAMModem\n",
    "import keras.backend as K\n",
    "import tensorflow as tf"
   ]
  },
  {
   "cell_type": "markdown",
   "metadata": {},
   "source": [
    "#### Functions"
   ]
  },
  {
   "cell_type": "code",
   "execution_count": 2,
   "metadata": {},
   "outputs": [],
   "source": [
    "def Basic_Nonlinear_Distortion_Model(A, B, q, p, G, Vsat, IBO):\n",
    "    val_IBO_m1dB = ((1 / sqrt(10 ** -0.1)) ** (2 * p) - 1) ** (1 / (2 * p)) * Vsat / (G)\n",
    "    coeff_IBO_m1dB = val_IBO_m1dB * sqrt(10 ** (-IBO / 10))\n",
    "    s = random.randn(1, 1000000)\n",
    "    vin1 = sqrt(1 / 2) * (s + 1j * s)\n",
    "    vin01 = coeff_IBO_m1dB * vin1\n",
    "    a0 = absolute(vin01)\n",
    "    a02 = a0 ** 2\n",
    "    theta = angle(vin01)\n",
    "    Am = (G * a0) / ((1 + (G * a0 / Vsat) ** (2 * p)) ** (1 / (2 * p)))\n",
    "    Bm = (A * (a0 ** q)) / ((1 + (a0 / B) ** (q)))\n",
    "    Sm = Am * exp(1j * (Bm))\n",
    "    vout1 = Am * exp(1j * (theta + Bm))\n",
    "    K0 = mean(vout1 * conj(vin01)) / mean(absolute(vin01) ** 2)\n",
    "    sigma2_d = var(vout1 - K0 * vin01)\n",
    "    return (K0, sigma2_d)\n",
    "\n",
    "\n",
    "Basic_Nonlinear_Distortion_Model.__doc__ = \"\"\"This function represents the basic nonlinear PA distortion model.\n",
    "        In which we generate a random bit stream equivalent to the power amplifier input (Vin1) which is normalised by the Input Back-Off coefficients\n",
    "        the considered PA is a SSPA modified Rapp model whose characteristic functions are given by the following formula:\n",
    "        The AM-AM characterization represents the amplitude to amplitude conversion and can be represented as follows:     \n",
    "        Am = (G * a0) / ((1 + (G * a0 / Vsat) ** (2 * p)) ** (1 / (2 * p))) \n",
    "        The AM-PM characterization represents the amplitude to phase conversion and can be represented as follows:\n",
    "        Bm = (A * (a0 ** q)) / ((1 + (a0 / B) ** (q)))\n",
    "        Where:  u is the magnitude of the input signal, G is small signal gain, Vsat is saturation level, p is the smoothness factor and A, B and q are ﬁtting parameters.\n",
    "        a0 is the magnitude and theta is the phase of the input symbol\n",
    "        Input: complex random symbols\n",
    "        Output:\n",
    "        -K0: Complex gain of PA\n",
    "        -sigma2_d: Distortion vector of PA\n",
    "\"\"\""
   ]
  },
  {
   "cell_type": "code",
   "execution_count": 3,
   "metadata": {},
   "outputs": [],
   "source": [
    "def hpa_sspa_modif_rapp(vin, Vsat, p, q, G, A, B):\n",
    "    A = -345\n",
    "    a0 = abs(vin)\n",
    "    theta = np.angle(vin)\n",
    "    Am = (G * a0) / ((1 + (G * a0 / Vsat) ** (2 * p)) ** (1 / (2 * p)))\n",
    "    Bm = (A * (a0 ** q)) / ((1 + (a0 / B) ** (q)))\n",
    "    vout = Am * np.exp(1j * (theta + Bm))\n",
    "    return vout\n",
    "\n",
    "\n",
    "hpa_sspa_modif_rapp.__doc__ = \"\"\" This function calculates the output of the power amplifier PA.\n",
    "         The nonlinear behavior of PA can be described using the AM-AM compression and AM-PM conversion characteristics.\n",
    "         Input:\n",
    "         -vin: Signal to be amplified\n",
    "         -Vsat: the saturation level\n",
    "         -p: the smoothing factor\n",
    "         -G: small signal gain\n",
    "         -q, A and B: adjustment parameters\n",
    "         Output: Amplified signal\n",
    "        \"\"\""
   ]
  },
  {
   "cell_type": "code",
   "execution_count": 4,
   "metadata": {},
   "outputs": [],
   "source": [
    "def find_K0_sigma2_d(vin, vout):\n",
    "    K0 = np.mean(vout * np.conj(vin)) / np.mean(np.absolute(vin) ** 2)\n",
    "    sigma2_d = np.var(vout - K0 * vin)\n",
    "    return (K0, sigma2_d)\n",
    "\n",
    "\n",
    "find_K0_sigma2_d.__doc__ = \"\"\"This function provides the parameters of distortion of nonlinearity of PA.\n",
    "         According to Bussgang's theorem, we can decompose the non-linear signal at the PA output into a linear function of the PA input and an uncorrelated distortion term.\n",
    "         The amplified signal will be in this form ymt = qmtxmt + dm\n",
    "         Input:\n",
    "         -vin: Signal to be amplified\n",
    "         -vout: Amplified signal\n",
    "         Output:\n",
    "         -K0: Complex gain of PA\n",
    "         -sigma2_d: Distortion vector of PA\n",
    "        \"\"\""
   ]
  },
  {
   "cell_type": "code",
   "execution_count": 5,
   "metadata": {},
   "outputs": [],
   "source": [
    "def log10(x):\n",
    "    numerator = tf.math.log(x)\n",
    "    denominator = tf.math.log(tf.constant(10, dtype=numerator.dtype))\n",
    "    return numerator / denominator\n",
    "\n",
    "\n",
    "log10.__doc__ = \"\"\"This function calculates the log10 of a tensor\n",
    "        Input: a tensor\n",
    "        Output: a tensor\n",
    "       \"\"\""
   ]
  },
  {
   "cell_type": "code",
   "execution_count": 6,
   "metadata": {},
   "outputs": [],
   "source": [
    "def NMSE(X_train, y_pred):\n",
    "    NMS = K.zeros(shape=(1000))\n",
    "    NMSEdb = K.zeros(shape=(1000))\n",
    "    # recieveh=K.zeros([1000,10])\n",
    "    y_predt = tf.convert_to_tensor(y_pred, dtype=tf.float32)\n",
    "    Y_gdr = y_predt[:1000, :100]\n",
    "    Y_gdi = y_predt[:1000, 100:]\n",
    "    Y_gd = tf.complex(Y_gdr, Y_gdi)\n",
    "    X_testt = tf.convert_to_tensor(X_train, dtype=tf.float32)\n",
    "    Shr = X_testt[:1000, :10]\n",
    "    Shi = X_testt[:1000, 10:20]\n",
    "    SSh = tf.complex(Shr, Shi)\n",
    "    for i in range(1000):\n",
    "        val_IBO_m1dB = (\n",
    "            ((1 / np.sqrt(10 ** -0.1)) ** (2 * p) - 1) ** (1 / (2 * p)) * Vsat / (G)\n",
    "        )\n",
    "        coeff_IBO_m1dB = (\n",
    "            val_IBO_m1dB\n",
    "            * tf.math.sqrt((1 / K.var(Y_gd[i])))\n",
    "            * np.sqrt(10 ** (-IBO / 10))\n",
    "        )\n",
    "        vin2 = coeff_IBO_m1dB * Y_gd[i]\n",
    "        A = -345\n",
    "        a0 = K.abs(vin2)\n",
    "        theta = tf.math.angle(vin2)\n",
    "        Am = (G * a0) / ((1 + (G * a0 / Vsat) ** (2 * p)) ** (1 / (2 * p)))\n",
    "        Bm = (A * (a0 ** q)) / ((1 + (a0 / B) ** (q)))\n",
    "        vout2 = tf.complex(Am, 0.0) * tf.math.exp(tf.complex(0.0, theta + Bm))\n",
    "        Y_gd_amp = vout2 / coeff_IBO_m1dB\n",
    "        Y_gd_amp0 = K.reshape(Y_gd_amp, (100, 1))\n",
    "        HH = K.constant(H, dtype=tf.complex64)\n",
    "        recieveh = K.dot(HH, (Y_gd_amp0))\n",
    "        recievehh = K.reshape(recieveh, (1, 10))\n",
    "        NMS = K.mean(K.abs(tf.math.subtract(recievehh, SSh[i]) ** 2)) / K.mean(\n",
    "            K.abs(SSh[i]) ** 2\n",
    "        )\n",
    "        NMSEdb = 10 * log10(K.mean(NMS))\n",
    "    return NMSEdb\n",
    "\n",
    "\n",
    "NMSE.__doc__ = \"\"\"This function is used to calculate the mean square error between the predicted symbols S and the symbols amplified then passed through the channel.\n",
    "        This function represents a custom metric compiled by the compile () function of the Keras library.\n",
    "        Input:\n",
    "        -Y_true: A tensor which contains y_train\n",
    "        -Y_Pred: A tensor which contains y_pred\n",
    "        Output: A tensor which contains the mean square error in db.\n",
    "       \"\"\""
   ]
  },
  {
   "cell_type": "code",
   "execution_count": 7,
   "metadata": {},
   "outputs": [],
   "source": [
    "def NMSE_calcul(X_test, y_pred,p,q,G,A,B,Vsat,IBO,H):\n",
    "    NMSE = np.zeros([1000, 1])\n",
    "    recievehh = np.zeros([1000, 10], dtype=complex)\n",
    "    Y_gdr = y_pred[:1000, :100]\n",
    "    Y_gdi = 1j * y_pred[:1000, 100:]\n",
    "    Y_gd = Y_gdr + Y_gdi\n",
    "    Shr = X_test[:1000, :10]\n",
    "    Shi = 1j * X_test[:1000, 10:20]\n",
    "    SSh = Shr + Shi\n",
    "    for i in range(1000):\n",
    "        val_IBO_m1dB = (((1 / np.sqrt(10 ** -0.1)) ** (2 * p) - 1) ** (1 / (2 * p)) * Vsat / (G))\n",
    "        coeff_IBO_m1dB = (val_IBO_m1dB * np.sqrt((1 / np.var(Y_gd[i]))) * np.sqrt(10 ** (-IBO / 10)))\n",
    "        vin22 = coeff_IBO_m1dB * Y_gd[i]\n",
    "        vout22 = hpa_sspa_modif_rapp(vin22, Vsat, p, q, G, A, B)\n",
    "        Y_gd_amp = vout22 / coeff_IBO_m1dB\n",
    "        recieveh = (H.dot(Y_gd_amp)).reshape((10))\n",
    "        recievehh[i] = recieveh\n",
    "        NMSE[i] = np.mean(np.abs(SSh[i] - recieveh) ** 2) / np.mean(np.abs(SSh[i]) ** 2)\n",
    "    NMSEdb = 10 * np.log10(np.mean(NMSE))\n",
    "    return NMSEdb\n",
    "\n",
    "\n",
    "NMSE_calcul.__doc__ = \"\"\"This function is used to calculate the mean square error between the predicted symbols S and the symbols amplified then passed through the channel.\n",
    "        This function represents a custom metric compiled by the compile () function of the Keras library.\n",
    "        Input:\n",
    "        -Y_true:  y_test\n",
    "        -Y_Pred:  y_pred\n",
    "        Output:  the mean square error in db.\n",
    "       \"\"\""
   ]
  },
  {
   "cell_type": "code",
   "execution_count": 8,
   "metadata": {},
   "outputs": [],
   "source": [
    "def root_mean_squared_error(y_true, y_pred):\n",
    "    return K.sqrt(K.mean(K.square(y_pred - y_true), axis=-1))\n",
    "\n",
    "\n",
    "root_mean_squared_error.__doc__ = \"\"\"\n",
    "         This function calculates the square root of the mean of the squared errors.\n",
    "         It is the most used metric for regression tasks.\n",
    "         It is preferable in some cases, because the errors are first gridded before the average, which poses a high penalty on large errors.\n",
    "         This implies that RMSE is useful when large errors are not desired.\n",
    "         Between:\n",
    "         -Y_true: A tensor which contains y_train\n",
    "         -Y_Pred: A tensor which contains y_pred\n",
    "         Output: A tensor which contains the mean square error.\n",
    "\n",
    "        \"\"\""
   ]
  }
 ],
 "metadata": {
  "kernelspec": {
   "display_name": "Python 3",
   "language": "python",
   "name": "python3"
  },
  "language_info": {
   "codemirror_mode": {
    "name": "ipython",
    "version": 3
   },
   "file_extension": ".py",
   "mimetype": "text/x-python",
   "name": "python",
   "nbconvert_exporter": "python",
   "pygments_lexer": "ipython3",
   "version": "3.6.9"
  }
 },
 "nbformat": 4,
 "nbformat_minor": 2
}
